{
 "cells": [
  {
   "cell_type": "markdown",
   "metadata": {},
   "source": [
    "<h1> Notebook 2 - Evaluar un modelo de Regresión Lineal</h1>"
   ]
  },
  {
   "cell_type": "markdown",
   "metadata": {},
   "source": [
    "<p> En este notebook, preguntamos:</p>\n",
    "<b>- ¿Qué es una regresión lineal?<br>\n",
    "- ¿Cómo se entrena un modelo de regresión lineal?<br>\n",
    "- ¿Cómo se interpreta y evalua un modelo de regresión lineal?<br>\n",
    "- ¿Cuáles son las metricas que permiten evaluar un modelo de regresión lineal?<br>\n",
    "- ¿Cómo elegir los atributos (<i>features</i>) de un modelo de regresión?<br></b>\n",
    "\n",
    "Aprovechamos de este notebook para descubrir las librerías seaborn (visualización de datos) y scikit-learn (Machine Learning)."
   ]
  },
  {
   "cell_type": "markdown",
   "metadata": {},
   "source": [
    "<h2>0. Recordatorio </h2>\n",
    "\n",
    "Existen 2 categorías de algoritmo de aprendizaje supervisado:<br>\n",
    "- <b>regresión</b>: aprendizaje de un modelo que tiene como <i>output</i> una variable <b>continua</b>,<br>\n",
    "- <b>clasificación</b>: aprendizaje de un modelo que tiene como <i>output</i> una variable <b>discreta</b>.\n"
   ]
  },
  {
   "cell_type": "markdown",
   "metadata": {},
   "source": [
    "<h2> 1. Regresión Lineal: Predicir un volumen de negocio según el canal de comunicación utilizado.</h2>"
   ]
  },
  {
   "cell_type": "markdown",
   "metadata": {},
   "source": [
    "Tenemos un dataset de 200 observaciones, correspondiendo a productos. Cada producto tiene 4 características:<br>\n",
    "- \"TV\": dinero invertido en publicidades en la televisión por cada producto (x1000). <br>\n",
    "- \"Radio\": dinero invertido en publicidades en la radio por cada producto (x1000). <br>\n",
    "- \"Newspaper\": dinero invertido en publicidades en la diarios por cada producto (x1000). <br>\n",
    "- \"Sales\": númedo de productos vendidos (x1000 productos).<br>"
   ]
  },
  {
   "cell_type": "markdown",
   "metadata": {},
   "source": [
    "<b>Problema</b>:<br>\n",
    "Queremos establecer un modelo que permite predecir el volumen de productos vendidos a partir del presupuesto \"publicidad\". Queremos evaluar si este modelo es fiable o no.\n"
   ]
  },
  {
   "cell_type": "code",
   "execution_count": 30,
   "metadata": {},
   "outputs": [
    {
     "data": {
      "text/html": [
       "<div>\n",
       "<style scoped>\n",
       "    .dataframe tbody tr th:only-of-type {\n",
       "        vertical-align: middle;\n",
       "    }\n",
       "\n",
       "    .dataframe tbody tr th {\n",
       "        vertical-align: top;\n",
       "    }\n",
       "\n",
       "    .dataframe thead th {\n",
       "        text-align: right;\n",
       "    }\n",
       "</style>\n",
       "<table border=\"1\" class=\"dataframe\">\n",
       "  <thead>\n",
       "    <tr style=\"text-align: right;\">\n",
       "      <th></th>\n",
       "      <th>TV</th>\n",
       "      <th>Radio</th>\n",
       "      <th>Newspaper</th>\n",
       "      <th>Sales</th>\n",
       "    </tr>\n",
       "  </thead>\n",
       "  <tbody>\n",
       "    <tr>\n",
       "      <th>1</th>\n",
       "      <td>230.1</td>\n",
       "      <td>37.8</td>\n",
       "      <td>69.2</td>\n",
       "      <td>22.1</td>\n",
       "    </tr>\n",
       "    <tr>\n",
       "      <th>2</th>\n",
       "      <td>44.5</td>\n",
       "      <td>39.3</td>\n",
       "      <td>45.1</td>\n",
       "      <td>10.4</td>\n",
       "    </tr>\n",
       "    <tr>\n",
       "      <th>3</th>\n",
       "      <td>17.2</td>\n",
       "      <td>45.9</td>\n",
       "      <td>69.3</td>\n",
       "      <td>9.3</td>\n",
       "    </tr>\n",
       "    <tr>\n",
       "      <th>4</th>\n",
       "      <td>151.5</td>\n",
       "      <td>41.3</td>\n",
       "      <td>58.5</td>\n",
       "      <td>18.5</td>\n",
       "    </tr>\n",
       "    <tr>\n",
       "      <th>5</th>\n",
       "      <td>180.8</td>\n",
       "      <td>10.8</td>\n",
       "      <td>58.4</td>\n",
       "      <td>12.9</td>\n",
       "    </tr>\n",
       "  </tbody>\n",
       "</table>\n",
       "</div>"
      ],
      "text/plain": [
       "      TV  Radio  Newspaper  Sales\n",
       "1  230.1   37.8       69.2   22.1\n",
       "2   44.5   39.3       45.1   10.4\n",
       "3   17.2   45.9       69.3    9.3\n",
       "4  151.5   41.3       58.5   18.5\n",
       "5  180.8   10.8       58.4   12.9"
      ]
     },
     "execution_count": 30,
     "metadata": {},
     "output_type": "execute_result"
    }
   ],
   "source": [
    "import pandas as pd\n",
    "\n",
    "data = pd.read_csv('nb2-advertising.csv', index_col=0)\n",
    "\n",
    "# display the first 5 rows\n",
    "data.head()"
   ]
  },
  {
   "cell_type": "code",
   "execution_count": 31,
   "metadata": {},
   "outputs": [
    {
     "data": {
      "text/plain": [
       "(200, 4)"
      ]
     },
     "execution_count": 31,
     "metadata": {},
     "output_type": "execute_result"
    }
   ],
   "source": [
    "# check the shape of the DataFrame (rows, columns)\n",
    "data.shape"
   ]
  },
  {
   "cell_type": "code",
   "execution_count": 32,
   "metadata": {},
   "outputs": [
    {
     "data": {
      "text/plain": [
       "<seaborn.axisgrid.PairGrid at 0x7f0419be8be0>"
      ]
     },
     "execution_count": 32,
     "metadata": {},
     "output_type": "execute_result"
    },
    {
     "data": {
      "image/png": "[encoded data removed]",
      "text/plain": [
       "<Figure size 1058.4x504 with 3 Axes>"
      ]
     },
     "metadata": {},
     "output_type": "display_data"
    }
   ],
   "source": [
    "import warnings\n",
    "warnings.filterwarnings('ignore')\n",
    "# conventional way to import seaborn\n",
    "import seaborn as sns\n",
    "\n",
    "# allow plots to appear within the notebook\n",
    "%matplotlib inline\n",
    "\n",
    "# visualize the relationship between the features and the response using scatterplots\n",
    "sns.pairplot(data, x_vars=['TV','Radio','Newspaper'], y_vars='Sales', size=7, aspect=0.7, kind='reg')"
   ]
  },
  {
   "cell_type": "markdown",
   "metadata": {},
   "source": [
    "## Linear regression\n",
    "\n",
    "**Ventajas:** Rápido, no requiere afinación, altamente interpretable, bien entendido\n",
    "\n",
    "**Desventajas:** es improbable que produzca la mejor precisión de predicción (supone una relación lineal entre las características y la respuesta)"
   ]
  },
  {
   "cell_type": "markdown",
   "metadata": {},
   "source": [
    "### Forma de la regresión lineal\n",
    "\n",
    "$y = \\beta_0 + \\beta_1x_1 + \\beta_2x_2 + ... + \\beta_nx_n$\n",
    "\n",
    "- $y$ es la respuesta\n",
    "- $\\beta_0$ es el \"intercept\"\n",
    "- $\\beta_1$ es el coeficiente para $x_1$ (el primer <i>feature</i>)\n",
    "- $\\beta_n$ es el coeficiente para $x_n$ (el <i>feature</i> n)\n",
    "\n",
    "En nuestro caso:\n",
    "\n",
    "$y = \\beta_0 + \\beta_1 \\times TV + \\beta_2 \\times Radio + \\beta_3 \\times Newspaper$\n",
    "\n",
    "Los valores $\\beta$ se denominan los **coeficientes del modelo**. Estos valores se \"aprenden\" durante el paso de ajuste del modelo utilizando el criterio de los \"mínimos cuadrados\". Entonces, el modelo ajustado puede ser usado para hacer predicciones!"
   ]
  },
  {
   "cell_type": "markdown",
   "metadata": {},
   "source": [
    "## Preparar X e Y usando pandas\n",
    "\n",
    "- scikit-learn espera que X (matriz de características) e y (vector de respuesta) sean matrices NumPy.\n",
    "- Sin embargo, pandas se construye sobre NumPy.\n",
    "- Así, X puede ser un pandas DataFrame y y puede ser un pandas Serie!"
   ]
  },
  {
   "cell_type": "code",
   "execution_count": 33,
   "metadata": {},
   "outputs": [
    {
     "data": {
      "text/html": [
       "<div>\n",
       "<style scoped>\n",
       "    .dataframe tbody tr th:only-of-type {\n",
       "        vertical-align: middle;\n",
       "    }\n",
       "\n",
       "    .dataframe tbody tr th {\n",
       "        vertical-align: top;\n",
       "    }\n",
       "\n",
       "    .dataframe thead th {\n",
       "        text-align: right;\n",
       "    }\n",
       "</style>\n",
       "<table border=\"1\" class=\"dataframe\">\n",
       "  <thead>\n",
       "    <tr style=\"text-align: right;\">\n",
       "      <th></th>\n",
       "      <th>TV</th>\n",
       "      <th>Radio</th>\n",
       "      <th>Newspaper</th>\n",
       "    </tr>\n",
       "  </thead>\n",
       "  <tbody>\n",
       "    <tr>\n",
       "      <th>1</th>\n",
       "      <td>230.1</td>\n",
       "      <td>37.8</td>\n",
       "      <td>69.2</td>\n",
       "    </tr>\n",
       "    <tr>\n",
       "      <th>2</th>\n",
       "      <td>44.5</td>\n",
       "      <td>39.3</td>\n",
       "      <td>45.1</td>\n",
       "    </tr>\n",
       "    <tr>\n",
       "      <th>3</th>\n",
       "      <td>17.2</td>\n",
       "      <td>45.9</td>\n",
       "      <td>69.3</td>\n",
       "    </tr>\n",
       "    <tr>\n",
       "      <th>4</th>\n",
       "      <td>151.5</td>\n",
       "      <td>41.3</td>\n",
       "      <td>58.5</td>\n",
       "    </tr>\n",
       "    <tr>\n",
       "      <th>5</th>\n",
       "      <td>180.8</td>\n",
       "      <td>10.8</td>\n",
       "      <td>58.4</td>\n",
       "    </tr>\n",
       "  </tbody>\n",
       "</table>\n",
       "</div>"
      ],
      "text/plain": [
       "      TV  Radio  Newspaper\n",
       "1  230.1   37.8       69.2\n",
       "2   44.5   39.3       45.1\n",
       "3   17.2   45.9       69.3\n",
       "4  151.5   41.3       58.5\n",
       "5  180.8   10.8       58.4"
      ]
     },
     "execution_count": 33,
     "metadata": {},
     "output_type": "execute_result"
    }
   ],
   "source": [
    "# create a Python list of feature names\n",
    "feature_cols = ['TV', 'Radio', 'Newspaper']\n",
    "\n",
    "# use the list to select a subset of the original DataFrame\n",
    "X = data[feature_cols]\n",
    "\n",
    "# equivalent command to do this in one line\n",
    "X = data[['TV', 'Radio', 'Newspaper']]\n",
    "\n",
    "# print the first 5 rows\n",
    "X.head()"
   ]
  },
  {
   "cell_type": "code",
   "execution_count": 34,
   "metadata": {},
   "outputs": [
    {
     "name": "stdout",
     "output_type": "stream",
     "text": [
      "<class 'pandas.core.frame.DataFrame'>\n",
      "(200, 3)\n"
     ]
    }
   ],
   "source": [
    "# check the type and shape of X\n",
    "print(type(X))\n",
    "print(X.shape)"
   ]
  },
  {
   "cell_type": "code",
   "execution_count": 35,
   "metadata": {},
   "outputs": [
    {
     "data": {
      "text/plain": [
       "1    22.1\n",
       "2    10.4\n",
       "3     9.3\n",
       "4    18.5\n",
       "5    12.9\n",
       "Name: Sales, dtype: float64"
      ]
     },
     "execution_count": 35,
     "metadata": {},
     "output_type": "execute_result"
    }
   ],
   "source": [
    "# select a Series from the DataFrame\n",
    "y = data['Sales']\n",
    "\n",
    "# equivalent command that works if there are no spaces in the column name\n",
    "y = data.Sales\n",
    "\n",
    "# print the first 5 values\n",
    "y.head()"
   ]
  },
  {
   "cell_type": "code",
   "execution_count": 36,
   "metadata": {},
   "outputs": [
    {
     "name": "stdout",
     "output_type": "stream",
     "text": [
      "<class 'pandas.core.series.Series'>\n",
      "(200,)\n"
     ]
    }
   ],
   "source": [
    "# check the type and shape of y\n",
    "print(type(y))\n",
    "print(y.shape)"
   ]
  },
  {
   "cell_type": "markdown",
   "metadata": {},
   "source": [
    "## Dividir X e Y en conjuntos de entrenamiento y pruebas"
   ]
  },
  {
   "cell_type": "code",
   "execution_count": 37,
   "metadata": {},
   "outputs": [
    {
     "data": {
      "text/plain": [
       "[        TV  Radio  Newspaper\n",
       " 99   289.7   42.3       51.2\n",
       " 124  123.1   34.6       12.4\n",
       " 120   19.4   16.0       22.3\n",
       " 54   182.6   46.2       58.7\n",
       " 34   265.6   20.0        0.3\n",
       " 180  165.6   10.0       17.6\n",
       " 182  218.5    5.4       27.4\n",
       " 107   25.0   11.0       29.7\n",
       " 200  232.1    8.6        8.7\n",
       " 139   43.0   25.9       20.5\n",
       " 117  139.2   14.3       25.6\n",
       " 68   139.3   14.5       10.2\n",
       " 79     5.4   29.9        9.4\n",
       " 43   293.6   27.7        1.8\n",
       " 18   281.4   39.6       55.8\n",
       " 6      8.7   48.9       75.0\n",
       " 128   80.2    0.0        9.2\n",
       " 106  137.9   46.4       59.0\n",
       " 49   227.2   15.8       49.9\n",
       " 67    31.5   24.6        2.2\n",
       " 55   262.7   28.8       15.9\n",
       " 85   213.5   43.0       33.8\n",
       " 184  287.6   43.0       71.8\n",
       " 159   11.7   36.9       45.2\n",
       " 167   17.9   37.6       21.6\n",
       " 114  209.6   20.6       10.7\n",
       " 13    23.8   35.1       65.9\n",
       " 118   76.4    0.8       14.8\n",
       " 94   250.9   36.5       72.3\n",
       " 121  141.3   26.8       46.2\n",
       " ..     ...    ...        ...\n",
       " 23    13.2   15.9       49.6\n",
       " 62   261.3   42.7       54.7\n",
       " 64   102.7   29.6        8.4\n",
       " 8    120.2   19.6       11.6\n",
       " 197   94.2    4.9        8.1\n",
       " 142  193.7   35.4       75.6\n",
       " 87    76.3   27.5       16.0\n",
       " 97   197.6    3.5        5.9\n",
       " 69   237.4   27.5       11.0\n",
       " 51   199.8    3.1       34.6\n",
       " 143  220.5   33.2       37.9\n",
       " 158  149.8    1.3       24.3\n",
       " 157   93.9   43.5       50.5\n",
       " 140  184.9   43.9        1.7\n",
       " 147  240.1    7.3        8.7\n",
       " 102  296.4   36.3      100.9\n",
       " 21   218.4   27.7       53.4\n",
       " 179  276.7    2.3       23.7\n",
       " 26   262.9    3.5       19.5\n",
       " 135   36.9   38.6       65.6\n",
       " 72   109.8   14.3       31.7\n",
       " 130   59.6   12.0       43.1\n",
       " 145   96.2   14.8       38.9\n",
       " 193   17.2    4.1       31.6\n",
       " 80   116.0    7.7       23.1\n",
       " 134  219.8   33.5       45.1\n",
       " 138  273.7   28.9       59.7\n",
       " 73    26.8   33.0       19.3\n",
       " 141   73.4   17.0       12.9\n",
       " 38    74.7   49.4       45.7\n",
       " \n",
       " [150 rows x 3 columns],         TV  Radio  Newspaper\n",
       " 59   210.8   49.6       37.7\n",
       " 41   202.5   22.3       31.6\n",
       " 35    95.7    1.4        7.4\n",
       " 103  280.2   10.1       21.4\n",
       " 185  253.8   21.3       30.0\n",
       " 199  283.6   42.0       66.2\n",
       " 96   163.3   31.6       52.9\n",
       " 5    180.8   10.8       58.4\n",
       " 30    70.6   16.0       40.8\n",
       " 169  215.4   23.6       57.6\n",
       " 172  164.5   20.9       47.4\n",
       " 19    69.2   20.5       18.3\n",
       " 12   214.7   24.0        4.0\n",
       " 90   109.8   47.8       51.4\n",
       " 111  225.8    8.2       56.5\n",
       " 119  125.7   36.9       79.2\n",
       " 160  131.7   18.4       34.6\n",
       " 36   290.7    4.1        8.5\n",
       " 137   25.6   39.0        9.3\n",
       " 60   210.7   29.5        9.3\n",
       " 52   100.4    9.6        3.6\n",
       " 17    67.8   36.6      114.0\n",
       " 45    25.1   25.7       43.3\n",
       " 95   107.4   14.0       10.9\n",
       " 32   112.9   17.4       38.6\n",
       " 163  188.4   18.1       25.6\n",
       " 39    43.1   26.7       35.1\n",
       " 29   248.8   27.1       22.9\n",
       " 194  166.8   42.0        3.6\n",
       " 28   240.1   16.7       22.9\n",
       " 48   239.9   41.5       18.5\n",
       " 166  234.5    3.4       84.8\n",
       " 195  149.7   35.6        6.0\n",
       " 178  170.2    7.8       35.2\n",
       " 177  248.4   30.2       20.3\n",
       " 98   184.9   21.0       22.0\n",
       " 175  222.4    3.4       13.1\n",
       " 74   129.4    5.7       31.3\n",
       " 70   216.8   43.9       27.2\n",
       " 173   19.6   20.1       17.0\n",
       " 109   13.1    0.4       25.6\n",
       " 108   90.4    0.3       23.2\n",
       " 190   18.7   12.1       23.4\n",
       " 15   204.1   32.9       46.0\n",
       " 57     7.3   28.1       41.4\n",
       " 20   147.3   23.9       19.1\n",
       " 115   78.2   46.8       34.5\n",
       " 40   228.0   37.7       32.0\n",
       " 186  205.0   45.1       19.6\n",
       " 125  229.5   32.3       74.2, 99     25.4\n",
       " 124    15.2\n",
       " 120     6.6\n",
       " 54     21.2\n",
       " 34     17.4\n",
       " 180    12.6\n",
       " 182    12.2\n",
       " 107     7.2\n",
       " 200    13.4\n",
       " 139     9.6\n",
       " 117    12.2\n",
       " 68     13.4\n",
       " 79      5.3\n",
       " 43     20.7\n",
       " 18     24.4\n",
       " 6       7.2\n",
       " 128     8.8\n",
       " 106    19.2\n",
       " 49     14.8\n",
       " 67      9.5\n",
       " 55     20.2\n",
       " 85     21.7\n",
       " 184    26.2\n",
       " 159     7.3\n",
       " 167     8.0\n",
       " 114    15.9\n",
       " 13      9.2\n",
       " 118     9.4\n",
       " 94     22.2\n",
       " 121    15.5\n",
       "        ... \n",
       " 23      5.6\n",
       " 62     24.2\n",
       " 64     14.0\n",
       " 8      13.2\n",
       " 197     9.7\n",
       " 142    19.2\n",
       " 87     12.0\n",
       " 97     11.7\n",
       " 69     18.9\n",
       " 51     11.4\n",
       " 143    20.1\n",
       " 158    10.1\n",
       " 157    15.3\n",
       " 140    20.7\n",
       " 147    13.2\n",
       " 102    23.8\n",
       " 21     18.0\n",
       " 179    11.8\n",
       " 26     12.0\n",
       " 135    10.8\n",
       " 72     12.4\n",
       " 130     9.7\n",
       " 145    11.4\n",
       " 193     5.9\n",
       " 80     11.0\n",
       " 134    19.6\n",
       " 138    20.8\n",
       " 73      8.8\n",
       " 141    10.9\n",
       " 38     14.7\n",
       " Name: Sales, Length: 150, dtype: float64, 59     23.8\n",
       " 41     16.6\n",
       " 35      9.5\n",
       " 103    14.8\n",
       " 185    17.6\n",
       " 199    25.5\n",
       " 96     16.9\n",
       " 5      12.9\n",
       " 30     10.5\n",
       " 169    17.1\n",
       " 172    14.5\n",
       " 19     11.3\n",
       " 12     17.4\n",
       " 90     16.7\n",
       " 111    13.4\n",
       " 119    15.9\n",
       " 160    12.9\n",
       " 36     12.8\n",
       " 137     9.5\n",
       " 60     18.4\n",
       " 52     10.7\n",
       " 17     12.5\n",
       " 45      8.5\n",
       " 95     11.5\n",
       " 32     11.9\n",
       " 163    14.9\n",
       " 39     10.1\n",
       " 29     18.9\n",
       " 194    19.6\n",
       " 28     15.9\n",
       " 48     23.2\n",
       " 166    11.9\n",
       " 195    17.3\n",
       " 178    11.7\n",
       " 177    20.2\n",
       " 98     15.5\n",
       " 175    11.5\n",
       " 74     11.0\n",
       " 70     22.3\n",
       " 173     7.6\n",
       " 109     5.3\n",
       " 108     8.7\n",
       " 190     6.7\n",
       " 15     19.0\n",
       " 57      5.5\n",
       " 20     14.6\n",
       " 115    14.6\n",
       " 40     21.5\n",
       " 186    22.6\n",
       " 125    19.7\n",
       " Name: Sales, dtype: float64]"
      ]
     },
     "execution_count": 37,
     "metadata": {},
     "output_type": "execute_result"
    }
   ],
   "source": [
    "from sklearn.model_selection import train_test_split\n",
    "X_train, X_test, y_train, y_test = train_test_split(X, y, random_state=1)\n",
    "train_test_split(X, y, random_state=1)"
   ]
  },
  {
   "cell_type": "code",
   "execution_count": 38,
   "metadata": {},
   "outputs": [
    {
     "name": "stdout",
     "output_type": "stream",
     "text": [
      "(150, 3)\n",
      "(150,)\n",
      "(50, 3)\n",
      "(50,)\n"
     ]
    }
   ],
   "source": [
    "# default split is 75% for training and 25% for testing\n",
    "print(X_train.shape)\n",
    "print(y_train.shape)\n",
    "print(X_test.shape)\n",
    "print(y_test.shape)"
   ]
  },
  {
   "cell_type": "markdown",
   "metadata": {},
   "source": [
    "## Regresión Lineal en scikit-learn"
   ]
  },
  {
   "cell_type": "code",
   "execution_count": 39,
   "metadata": {},
   "outputs": [
    {
     "data": {
      "text/plain": [
       "LinearRegression(copy_X=True, fit_intercept=True, n_jobs=1, normalize=False)"
      ]
     },
     "execution_count": 39,
     "metadata": {},
     "output_type": "execute_result"
    }
   ],
   "source": [
    "# import model\n",
    "from sklearn.linear_model import LinearRegression\n",
    "\n",
    "# instantiate\n",
    "linreg = LinearRegression()\n",
    "\n",
    "# fit the model to the training data (learn the coefficients)\n",
    "linreg.fit(X_train, y_train)"
   ]
  },
  {
   "cell_type": "markdown",
   "metadata": {},
   "source": [
    "### Interpretación de los coeficientes del modelo"
   ]
  },
  {
   "cell_type": "code",
   "execution_count": 40,
   "metadata": {},
   "outputs": [
    {
     "name": "stdout",
     "output_type": "stream",
     "text": [
      "2.87696662231793\n",
      "[0.04656457 0.17915812 0.00345046]\n"
     ]
    }
   ],
   "source": [
    "# print the intercept and coefficients\n",
    "print(linreg.intercept_)\n",
    "print(linreg.coef_)"
   ]
  },
  {
   "cell_type": "code",
   "execution_count": 41,
   "metadata": {},
   "outputs": [
    {
     "data": {
      "text/plain": [
       "[('TV', 0.04656456787415029),\n",
       " ('Radio', 0.1791581224508884),\n",
       " ('Newspaper', 0.0034504647111804343)]"
      ]
     },
     "execution_count": 41,
     "metadata": {},
     "output_type": "execute_result"
    }
   ],
   "source": [
    "# pair the feature names with the coefficients\n",
    "list(zip(feature_cols, linreg.coef_))"
   ]
  },
  {
   "cell_type": "markdown",
   "metadata": {},
   "source": [
    "$$y = 2.88 + 0.0466 \\times TV + 0.179 \\times Radio + 0.00345 \\times Newspaper$$\n",
    "\n",
    "¿Cómo interpretamos el coeficiente **TV** (0,0466)?\n",
    "\n",
    "- Para una determinada cantidad de gastos de publicidad en radio y periódicos, **un aumento de \"unidad\" en el gasto de publicidad en televisión** se asocia con un aumento de **0,0466 \"unidad\" en las ventas**.\n",
    "- O más claramente: Por una cantidad dada de gastos en anuncios de radio y periódicos, **un gasto adicional de $1,000 en anuncios de televisión** está asociado con un **incremento en las ventas de 46.6 artículos**.\n",
    "\n",
    "Notas importantes:\n",
    "\n",
    "- Esta es una declaración de **asociación**, no **causación**.\n",
    "- Si un aumento en el gasto de anuncios de televisión se asociara con una **disminución** en las ventas, $\\beta_1$ sería **negativo**."
   ]
  },
  {
   "cell_type": "markdown",
   "metadata": {},
   "source": [
    "### Realizar predicciones"
   ]
  },
  {
   "cell_type": "code",
   "execution_count": 42,
   "metadata": {},
   "outputs": [],
   "source": [
    "# make predictions on the testing set\n",
    "y_pred = linreg.predict(X_test)"
   ]
  },
  {
   "cell_type": "markdown",
   "metadata": {},
   "source": [
    "Necesitamos una **métrica de evaluación** para comparar nuestras predicciones con los valores reales!"
   ]
  },
  {
   "cell_type": "markdown",
   "metadata": {},
   "source": [
    "## Métricas de evaluación de modelos para regresión\n",
    "\n",
    "Las métricas de evaluación para problemas de clasificación, como **exactitud**, no son útiles para problemas de regresión. En cambio, necesitamos métricas de evaluación diseñadas para comparar valores continuos.\n",
    "\n",
    "Vamos a crear algunos ejemplos de predicciones numéricas, y calcular **tres métricas de evaluación comunes** para problemas de regresión:\n"
   ]
  },
  {
   "cell_type": "code",
   "execution_count": 43,
   "metadata": {},
   "outputs": [],
   "source": [
    "# define true and predicted response values\n",
    "true = [100, 50, 30, 20]\n",
    "pred = [90, 50, 50, 30]"
   ]
  },
  {
   "cell_type": "markdown",
   "metadata": {},
   "source": [
    "**Mean Absolute Error** (MAE) es la media del valor absoluto de los errores:\n",
    "\n",
    "$$\\frac 1n\\sum_{i=1}^n|y_i-\\hat{y}_i|$$"
   ]
  },
  {
   "cell_type": "code",
   "execution_count": 44,
   "metadata": {},
   "outputs": [
    {
     "name": "stdout",
     "output_type": "stream",
     "text": [
      "10.0\n",
      "10.0\n"
     ]
    }
   ],
   "source": [
    "# calculate MAE by hand\n",
    "print((10 + 0 + 20 + 10)/4.)\n",
    "\n",
    "# calculate MAE using scikit-learn\n",
    "from sklearn import metrics\n",
    "print(metrics.mean_absolute_error(true, pred))"
   ]
  },
  {
   "cell_type": "markdown",
   "metadata": {},
   "source": [
    "**Mean Squared Error** (MSE) es la media de los errores cuadrados:\n",
    "\n",
    "$$\\frac 1n\\sum_{i=1}^n(y_i-\\hat{y}_i)^2$$"
   ]
  },
  {
   "cell_type": "code",
   "execution_count": 45,
   "metadata": {},
   "outputs": [
    {
     "name": "stdout",
     "output_type": "stream",
     "text": [
      "150.0\n",
      "150.0\n"
     ]
    }
   ],
   "source": [
    "# calculate MSE by hand\n",
    "print((10**2 + 0**2 + 20**2 + 10**2)/4.)\n",
    "\n",
    "# calculate MSE using scikit-learn\n",
    "print(metrics.mean_squared_error(true, pred))"
   ]
  },
  {
   "cell_type": "markdown",
   "metadata": {},
   "source": [
    "**Root Mean Squared Error** (RMSE)  es la raíz cuadrada de la media de los errores cuadrados:\n",
    "\n",
    "$$\\sqrt{\\frac 1n\\sum_{i=1}^n(y_i-\\hat{y}_i)^2}$$"
   ]
  },
  {
   "cell_type": "code",
   "execution_count": 46,
   "metadata": {},
   "outputs": [
    {
     "name": "stdout",
     "output_type": "stream",
     "text": [
      "12.24744871391589\n",
      "12.24744871391589\n"
     ]
    }
   ],
   "source": [
    "# calculate RMSE by hand\n",
    "import numpy as np\n",
    "print(np.sqrt((10**2 + 0**2 + 20**2 + 10**2)/4.))\n",
    "\n",
    "# calculate RMSE using scikit-learn\n",
    "print(np.sqrt(metrics.mean_squared_error(true, pred)))"
   ]
  },
  {
   "cell_type": "markdown",
   "metadata": {},
   "source": [
    "Comparando estas métricas:\n",
    "\n",
    "- **MAE** es el más fácil de entender, porque es el error promedio.\n",
    "- **MSE** es más popular que MAE, porque MSE \"castiga\" errores más grandes.\n",
    "- **RMSE** es aún más popular que MSE, porque RMSE es interpretable en las unidades \"y\"."
   ]
  },
  {
   "cell_type": "markdown",
   "metadata": {},
   "source": [
    "## Calculando el RMSE para nuestras predicciones de ventas"
   ]
  },
  {
   "cell_type": "code",
   "execution_count": 47,
   "metadata": {},
   "outputs": [
    {
     "name": "stdout",
     "output_type": "stream",
     "text": [
      "1.4046514230328953\n"
     ]
    }
   ],
   "source": [
    "# create a Python list of feature names\n",
    "feature_cols = ['TV', 'Radio', 'Newspaper']\n",
    "\n",
    "# use the list to select a subset of the original DataFrame\n",
    "X = data[feature_cols]\n",
    "\n",
    "# select a Series from the DataFrame\n",
    "y = data.Sales\n",
    "\n",
    "# split into training and testing sets\n",
    "X_train, X_test, y_train, y_test = train_test_split(X, y, random_state=1)\n",
    "\n",
    "# fit the model to the training data (learn the coefficients)\n",
    "linreg.fit(X_train, y_train)\n",
    "\n",
    "# make predictions on the testing set\n",
    "y_pred = linreg.predict(X_test)\n",
    "\n",
    "print(np.sqrt(metrics.mean_squared_error(y_test, y_pred)))"
   ]
  },
  {
   "cell_type": "markdown",
   "metadata": {},
   "source": [
    "## Feature selection (Selección de características)\n",
    "\n",
    "¿El **Newspaper** \"pertenece\" a nuestro modelo? En otras palabras, ¿mejora la calidad de nuestras predicciones?\n",
    "\n",
    "Saquémoslo del modelo y revisemos el RMSE!"
   ]
  },
  {
   "cell_type": "code",
   "execution_count": 48,
   "metadata": {},
   "outputs": [
    {
     "name": "stdout",
     "output_type": "stream",
     "text": [
      "1.3879034699382888\n"
     ]
    }
   ],
   "source": [
    "# create a Python list of feature names\n",
    "feature_cols = ['TV', 'Radio']\n",
    "\n",
    "# use the list to select a subset of the original DataFrame\n",
    "X = data[feature_cols]\n",
    "\n",
    "# select a Series from the DataFrame\n",
    "y = data.Sales\n",
    "\n",
    "# split into training and testing sets\n",
    "X_train, X_test, y_train, y_test = train_test_split(X, y, random_state=1)\n",
    "\n",
    "# fit the model to the training data (learn the coefficients)\n",
    "linreg.fit(X_train, y_train)\n",
    "\n",
    "# make predictions on the testing set\n",
    "y_pred = linreg.predict(X_test)\n",
    "\n",
    "# compute the RMSE of our predictions\n",
    "print(np.sqrt(metrics.mean_squared_error(y_test, y_pred)))"
   ]
  },
  {
   "cell_type": "markdown",
   "metadata": {},
   "source": [
    "El RMSE **disminuyó** cuando quitamos el Newspaper del modelo. (El error es algo que queremos minimizar, así que **un número menor de RMSE es mejor**.) Por lo tanto, es poco probable que esta característica sea útil para predecir las ventas, y debería ser eliminada del modelo."
   ]
  },
  {
   "cell_type": "markdown",
   "metadata": {},
   "source": [
    "<h2>2. Trabajo práctico y preguntas</h2>\n",
    "\n",
    "\n",
    "- ¿Cuáles son las principales limites de un modelo de regresión lineal?\n",
    "\n",
    "*R: El principal limite es que si los datos estan muy dispersos,la regresion lineal entregara un error demasiado grande, por tanto no es recomendable utilizarlo en todos los casos.*\n",
    "\n",
    "- ¿Cuál es la diferencia entre las relaciones de \"corelaciones\" y \"causalidad\"? ¿Por qué es importante tener conciencia de la diferencia?\n",
    "\n",
    "*R: Porque la existencia de las correlaciones no son necesariamente una causalidad, por ejemplo, no podemos decir que existe una relacion de causalidad si existe relacion entre las ventas de helados y los asesinatos en estados unidos.\n",
    "Es necesario tener conciencia ya que para como ingenieros debemos ser capaces de realizar mirar la realidad antes que dejarnos llevar por los valores numericos y buscar relaciones inexistentes.*"
   ]
  },
  {
   "cell_type": "markdown",
   "metadata": {},
   "source": [
    "<h2>Recursos</h2>"
   ]
  },
  {
   "cell_type": "markdown",
   "metadata": {},
   "source": [
    "- In-depth introduction to machine learning in 15 hours of expert videos: https://www.dataschool.io/15-hours-of-expert-machine-learning-videos/\n",
    "- Aplicar e interpretar linear regresión: https://www.dataschool.io/applying-and-interpreting-linear-regression/\n",
    "- Tutorial oficial Seaborn: http://seaborn.pydata.org/tutorial.html"
   ]
  },
  {
   "cell_type": "markdown",
   "metadata": {},
   "source": [
    "- ¿Cuál es el RMSE de los modelos de regresión realizados en el notebook 1?"
   ]
  },
  {
   "cell_type": "code",
   "execution_count": 49,
   "metadata": {},
   "outputs": [],
   "source": [
    "dft1=pd.read_csv(\"nb1-dataset1.csv\")\n",
    "dft2=pd.read_csv(\"nb1-dataset2.csv\")\n",
    "dft3=pd.read_csv(\"nb1-insurance.csv\")\n",
    "dft3[\"sex\"]=dft3[\"sex\"].str.contains(\"female\")*1\n",
    "dft3[\"smoker\"]=dft3[\"smoker\"].str.contains(\"yes\")*1"
   ]
  },
  {
   "cell_type": "code",
   "execution_count": 50,
   "metadata": {},
   "outputs": [
    {
     "name": "stdout",
     "output_type": "stream",
     "text": [
      "2.7271676249396184\n"
     ]
    }
   ],
   "source": [
    "y1=pd.DataFrame(dft1[\"Beneficio (10K$)\"])\n",
    "x1=pd.DataFrame(dft1[\"Population (10000 pers.)\"])\n",
    "x1_train, x1_test, y1_train, y1_test = train_test_split(x1, y1, random_state=1)\n",
    "linreg.fit(x1_train, y1_train)\n",
    "y1_pred = linreg.predict(x1_test)\n",
    "print(np.sqrt(metrics.mean_squared_error(y1_test, y1_pred)))\n"
   ]
  },
  {
   "cell_type": "code",
   "execution_count": 74,
   "metadata": {},
   "outputs": [
    {
     "name": "stdout",
     "output_type": "stream",
     "text": [
      "84903.29734915466\n"
     ]
    }
   ],
   "source": [
    "from sklearn.preprocessing import StandardScaler\n",
    " \n",
    "scale = StandardScaler()\n",
    "y2 = dft2[\"Precio\"]\n",
    "x2 = dft2[['Superficie','Numero_habitaciones']]\n",
    "x2=pd.DataFrame(scale.fit_transform(x2))\n",
    "x2_train, x2_test, y2_train, y2_test = train_test_split(x2, y2, random_state=1)\n",
    "linreg.fit(x2_train, y2_train)\n",
    "y2_pred = linreg.predict(x2_test)\n",
    "print(np.sqrt(metrics.mean_squared_error(y2_test, y2_pred)))"
   ]
  },
  {
   "cell_type": "code",
   "execution_count": 72,
   "metadata": {},
   "outputs": [
    {
     "name": "stdout",
     "output_type": "stream",
     "text": [
      "6006.0642879266525\n"
     ]
    }
   ],
   "source": [
    "y3=dft3[\"expenses\"]\n",
    "x3=dft3[[\"age\",\"bmi\",\"children\",\"smoker\"]]\n",
    "x3=pd.DataFrame(scale.fit_transform(x3))\n",
    "x3_train, x3_test, y3_train, y3_test = train_test_split(x3, y3, random_state=1)\n",
    "linreg.fit(x3_train, y3_train)\n",
    "y3_pred = linreg.predict(x3_test)\n",
    "print(np.sqrt(metrics.mean_squared_error(y3_test, y3_pred)))"
   ]
  },
  {
   "cell_type": "code",
   "execution_count": null,
   "metadata": {},
   "outputs": [],
   "source": []
  },
  {
   "cell_type": "code",
   "execution_count": null,
   "metadata": {},
   "outputs": [],
   "source": []
  }
 ],
 "metadata": {
  "kernelspec": {
   "display_name": "Python 3",
   "language": "python",
   "name": "python3"
  },
  "language_info": {
   "codemirror_mode": {
    "name": "ipython",
    "version": 3
   },
   "file_extension": ".py",
   "mimetype": "text/x-python",
   "name": "python",
   "nbconvert_exporter": "python",
   "pygments_lexer": "ipython3",
   "version": "3.5.2"
  }
 },
 "nbformat": 4,
 "nbformat_minor": 2
}
