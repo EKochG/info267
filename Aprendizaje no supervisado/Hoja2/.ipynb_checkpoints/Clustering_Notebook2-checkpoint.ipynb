{
 "cells": [
  {
   "cell_type": "markdown",
   "metadata": {},
   "source": [
    "# Notebook 2:  Clustering con GMM y Algoritmos Jerárquicos\n",
    "\n",
    "En este notebook vamos a implementar el algoritmo de clustering de Mezcla de Normales en R. El objetivo es entender como funciona este algoritmo y  aprender a utilizarlo con un ejemplo simple. Se incluye además la estrategia para definir el número de grupos k. Al final se propone un ejercicio con nuevos datos, con el fin de aprender a utilizar el algoritmo. "
   ]
  },
  {
   "cell_type": "code",
   "execution_count": 1,
   "metadata": {},
   "outputs": [
    {
     "name": "stderr",
     "output_type": "stream",
     "text": [
      "Package 'mclust' version 5.4.1\n",
      "Type 'citation(\"mclust\")' for citing this R package in publications.\n"
     ]
    },
    {
     "data": {
      "text/plain": [
       "     WATER          PROTEIN            FAT           LACTOSE     \n",
       " Min.   :44.90   Min.   : 0.600   Min.   : 1.00   Min.   :0.000  \n",
       " 1st Qu.:71.30   1st Qu.: 3.000   1st Qu.: 3.40   1st Qu.:2.700  \n",
       " Median :82.00   Median : 5.900   Median : 6.30   Median :4.700  \n",
       " Mean   :78.18   Mean   : 6.212   Mean   :10.31   Mean   :4.132  \n",
       " 3rd Qu.:87.70   3rd Qu.: 9.700   3rd Qu.:13.10   3rd Qu.:5.600  \n",
       " Max.   :90.40   Max.   :12.300   Max.   :42.00   Max.   :6.900  \n",
       "      ASH        \n",
       " Min.   :0.1000  \n",
       " 1st Qu.:0.5300  \n",
       " Median :0.8000  \n",
       " Mean   :0.8632  \n",
       " 3rd Qu.:1.1000  \n",
       " Max.   :2.3000  "
      ]
     },
     "metadata": {},
     "output_type": "display_data"
    }
   ],
   "source": [
    "library(mclust)\n",
    "library(cluster)\n",
    "#ruta datos\n",
    "#lee datos del archivo de texto como una matriz. La primera #columna se utiliza como vector de nombres de las filas\n",
    "datos <-read.table(\"milk1.dat\",row.names=1,dec=\".\",header=TRUE)\n",
    "summary(datos)"
   ]
  },
  {
   "cell_type": "code",
   "execution_count": 2,
   "metadata": {
    "scrolled": true
   },
   "outputs": [
    {
     "data": {
      "text/plain": [
       "---------------------------------------------------- \n",
       "Gaussian finite mixture model fitted by EM algorithm \n",
       "---------------------------------------------------- \n",
       "\n",
       "Mclust VEV (ellipsoidal, equal shape) model with 4 components: \n",
       "\n",
       " log.likelihood  n df       BIC       ICL\n",
       "      -129.0138 25 71 -486.5678 -486.5782\n",
       "\n",
       "Clustering table:\n",
       "1 2 3 4 \n",
       "5 8 7 5 "
      ]
     },
     "metadata": {},
     "output_type": "display_data"
    },
    {
     "data": {
      "text/plain": [
       "'Mclust' model object: (VEV,4) \n",
       "\n",
       "Available components: \n",
       " [1] \"call\"           \"data\"           \"modelName\"      \"n\"             \n",
       " [5] \"d\"              \"G\"              \"BIC\"            \"bic\"           \n",
       " [9] \"loglik\"         \"df\"             \"hypvol\"         \"parameters\"    \n",
       "[13] \"z\"              \"classification\" \"uncertainty\"   "
      ]
     },
     "metadata": {},
     "output_type": "display_data"
    },
    {
     "data": {
      "text/html": [
       "<table>\n",
       "<thead><tr><th scope=col>WATER</th><th scope=col>PROTEIN</th><th scope=col>FAT</th><th scope=col>LACTOSE</th><th scope=col>ASH</th></tr></thead>\n",
       "<tbody>\n",
       "\t<tr><td>89.45999 </td><td> 1.980001</td><td> 2.080005</td><td>6.200009 </td><td>0.3279979</td></tr>\n",
       "\t<tr><td>71.88271 </td><td> 7.298580</td><td>15.881214</td><td>3.088610 </td><td>0.7512686</td></tr>\n",
       "\t<tr><td>84.71493 </td><td> 4.756873</td><td> 4.756149</td><td>5.100211 </td><td>0.8185953</td></tr>\n",
       "\t<tr><td>67.86000 </td><td>10.740002</td><td>17.380003</td><td>2.379999 </td><td>1.6400005</td></tr>\n",
       "</tbody>\n",
       "</table>\n"
      ],
      "text/latex": [
       "\\begin{tabular}{lllll}\n",
       " WATER & PROTEIN & FAT & LACTOSE & ASH\\\\\n",
       "\\hline\n",
       "\t 89.45999  &  1.980001 &  2.080005 & 6.200009  & 0.3279979\\\\\n",
       "\t 71.88271  &  7.298580 & 15.881214 & 3.088610  & 0.7512686\\\\\n",
       "\t 84.71493  &  4.756873 &  4.756149 & 5.100211  & 0.8185953\\\\\n",
       "\t 67.86000  & 10.740002 & 17.380003 & 2.379999  & 1.6400005\\\\\n",
       "\\end{tabular}\n"
      ],
      "text/markdown": [
       "\n",
       "WATER | PROTEIN | FAT | LACTOSE | ASH | \n",
       "|---|---|---|---|\n",
       "| 89.45999  |  1.980001 |  2.080005 | 6.200009  | 0.3279979 | \n",
       "| 71.88271  |  7.298580 | 15.881214 | 3.088610  | 0.7512686 | \n",
       "| 84.71493  |  4.756873 |  4.756149 | 5.100211  | 0.8185953 | \n",
       "| 67.86000  | 10.740002 | 17.380003 | 2.379999  | 1.6400005 | \n",
       "\n",
       "\n"
      ],
      "text/plain": [
       "     WATER    PROTEIN   FAT       LACTOSE  ASH      \n",
       "[1,] 89.45999  1.980001  2.080005 6.200009 0.3279979\n",
       "[2,] 71.88271  7.298580 15.881214 3.088610 0.7512686\n",
       "[3,] 84.71493  4.756873  4.756149 5.100211 0.8185953\n",
       "[4,] 67.86000 10.740002 17.380003 2.379999 1.6400005"
      ]
     },
     "metadata": {},
     "output_type": "display_data"
    },
    {
     "data": {
      "text/html": [
       "<dl class=dl-horizontal>\n",
       "\t<dt>HORSE</dt>\n",
       "\t\t<dd>1</dd>\n",
       "\t<dt>ORANGUTAN</dt>\n",
       "\t\t<dd>1</dd>\n",
       "\t<dt>MONKEY</dt>\n",
       "\t\t<dd>1</dd>\n",
       "\t<dt>DONKEY</dt>\n",
       "\t\t<dd>1</dd>\n",
       "\t<dt>HIPPO</dt>\n",
       "\t\t<dd>2</dd>\n",
       "\t<dt>CAMEL</dt>\n",
       "\t\t<dd>3</dd>\n",
       "\t<dt>BISON</dt>\n",
       "\t\t<dd>3</dd>\n",
       "\t<dt>BUFFALO</dt>\n",
       "\t\t<dd>3</dd>\n",
       "\t<dt>GUINEA_PIG</dt>\n",
       "\t\t<dd>2</dd>\n",
       "\t<dt>CAT</dt>\n",
       "\t\t<dd>2</dd>\n",
       "\t<dt>FOX</dt>\n",
       "\t\t<dd>3</dd>\n",
       "\t<dt>LLAMA</dt>\n",
       "\t\t<dd>3</dd>\n",
       "\t<dt>MULE</dt>\n",
       "\t\t<dd>1</dd>\n",
       "\t<dt>PIG</dt>\n",
       "\t\t<dd>2</dd>\n",
       "\t<dt>ZEBRA</dt>\n",
       "\t\t<dd>3</dd>\n",
       "\t<dt>SHEEP</dt>\n",
       "\t\t<dd>3</dd>\n",
       "\t<dt>DOG</dt>\n",
       "\t\t<dd>2</dd>\n",
       "\t<dt>ELEPHANT</dt>\n",
       "\t\t<dd>2</dd>\n",
       "\t<dt>RABBIT</dt>\n",
       "\t\t<dd>4</dd>\n",
       "\t<dt>RAT</dt>\n",
       "\t\t<dd>4</dd>\n",
       "\t<dt>DEER</dt>\n",
       "\t\t<dd>4</dd>\n",
       "\t<dt>REINDEER</dt>\n",
       "\t\t<dd>4</dd>\n",
       "\t<dt>WHALE</dt>\n",
       "\t\t<dd>4</dd>\n",
       "\t<dt>SEAL</dt>\n",
       "\t\t<dd>2</dd>\n",
       "\t<dt>DOLPHIN</dt>\n",
       "\t\t<dd>2</dd>\n",
       "</dl>\n"
      ],
      "text/latex": [
       "\\begin{description*}\n",
       "\\item[HORSE] 1\n",
       "\\item[ORANGUTAN] 1\n",
       "\\item[MONKEY] 1\n",
       "\\item[DONKEY] 1\n",
       "\\item[HIPPO] 2\n",
       "\\item[CAMEL] 3\n",
       "\\item[BISON] 3\n",
       "\\item[BUFFALO] 3\n",
       "\\item[GUINEA\\textbackslash{}\\_PIG] 2\n",
       "\\item[CAT] 2\n",
       "\\item[FOX] 3\n",
       "\\item[LLAMA] 3\n",
       "\\item[MULE] 1\n",
       "\\item[PIG] 2\n",
       "\\item[ZEBRA] 3\n",
       "\\item[SHEEP] 3\n",
       "\\item[DOG] 2\n",
       "\\item[ELEPHANT] 2\n",
       "\\item[RABBIT] 4\n",
       "\\item[RAT] 4\n",
       "\\item[DEER] 4\n",
       "\\item[REINDEER] 4\n",
       "\\item[WHALE] 4\n",
       "\\item[SEAL] 2\n",
       "\\item[DOLPHIN] 2\n",
       "\\end{description*}\n"
      ],
      "text/markdown": [
       "HORSE\n",
       ":   1ORANGUTAN\n",
       ":   1MONKEY\n",
       ":   1DONKEY\n",
       ":   1HIPPO\n",
       ":   2CAMEL\n",
       ":   3BISON\n",
       ":   3BUFFALO\n",
       ":   3GUINEA_PIG\n",
       ":   2CAT\n",
       ":   2FOX\n",
       ":   3LLAMA\n",
       ":   3MULE\n",
       ":   1PIG\n",
       ":   2ZEBRA\n",
       ":   3SHEEP\n",
       ":   3DOG\n",
       ":   2ELEPHANT\n",
       ":   2RABBIT\n",
       ":   4RAT\n",
       ":   4DEER\n",
       ":   4REINDEER\n",
       ":   4WHALE\n",
       ":   4SEAL\n",
       ":   2DOLPHIN\n",
       ":   2\n",
       "\n"
      ],
      "text/plain": [
       "     HORSE  ORANGUTAN     MONKEY     DONKEY      HIPPO      CAMEL      BISON \n",
       "         1          1          1          1          2          3          3 \n",
       "   BUFFALO GUINEA_PIG        CAT        FOX      LLAMA       MULE        PIG \n",
       "         3          2          2          3          3          1          2 \n",
       "     ZEBRA      SHEEP        DOG   ELEPHANT     RABBIT        RAT       DEER \n",
       "         3          3          2          2          4          4          4 \n",
       "  REINDEER      WHALE       SEAL    DOLPHIN \n",
       "         4          4          2          2 "
      ]
     },
     "metadata": {},
     "output_type": "display_data"
    }
   ],
   "source": [
    "clus <-Mclust(datos, G=4)\n",
    "summary(clus)\n",
    "clus\n",
    "cl <- clus$classification\n",
    "centers <- t(clus$parameters$mean)\n",
    "centers\n",
    "cl"
   ]
  },
  {
   "cell_type": "markdown",
   "metadata": {},
   "source": [
    "Ejercicio 1: \n",
    "a) Explique como funciona el método Mclust, describa parámetros de entrada y salida.\n",
    "b) Interprete y comente los resultados obtenidos. "
   ]
  },
  {
   "cell_type": "markdown",
   "metadata": {},
   "source": [
    "<b>a) El metodo mclust toma como parametros un set de datos y el tamaño del vector de componentes que determinara la cantidad de grupos a los que pertenecen, la salida son los animales con las distintas agrupaciones. </b>\n",
    "\n",
    "\n",
    "<b>b) se agruparon los animales segun los la cantidad de grupos que se realizarón, el grupo 1 posee un 89% de agua, un 2% de proteina etc. cada grupo tiene un cierto porcentaje de algun componente</b>"
   ]
  },
  {
   "cell_type": "code",
   "execution_count": 3,
   "metadata": {},
   "outputs": [
    {
     "data": {
      "image/png": "[encoded data removed]",
      "text/plain": [
       "plot without title"
      ]
     },
     "metadata": {},
     "output_type": "display_data"
    }
   ],
   "source": [
    "#Análisis de Componentes Principales para graficar los grupos obtenidos\n",
    "#Calcula plano de componentes principales y grafica las observaciones con el número de su grupo\n",
    "res <- princomp(datos, cor=TRUE)\n",
    "res2 <- predict(res,centers)\n",
    "biplot(res,xlabs=cl)\n",
    "#grafica los centros de cada grupo en el plano de componentes principales utilizando colores distintos\n",
    "points(res2[,1:2],col=1:9,pch=19)"
   ]
  },
  {
   "cell_type": "markdown",
   "metadata": {},
   "source": [
    "Ejercicio 2: Repita el procedimiento considerando 2, 3 y 4 grupos. Discuta y compare  sus resultados con aquellos obtenidos con k-means"
   ]
  },
  {
   "cell_type": "code",
   "execution_count": 4,
   "metadata": {},
   "outputs": [
    {
     "data": {
      "text/plain": [
       "'Mclust' model object: (EVV,2) \n",
       "\n",
       "Available components: \n",
       " [1] \"call\"           \"data\"           \"modelName\"      \"n\"             \n",
       " [5] \"d\"              \"G\"              \"BIC\"            \"bic\"           \n",
       " [9] \"loglik\"         \"df\"             \"hypvol\"         \"parameters\"    \n",
       "[13] \"z\"              \"classification\" \"uncertainty\"   "
      ]
     },
     "metadata": {},
     "output_type": "display_data"
    },
    {
     "data": {
      "text/html": [
       "<table>\n",
       "<thead><tr><th scope=col>WATER</th><th scope=col>PROTEIN</th><th scope=col>FAT</th><th scope=col>LACTOSE</th><th scope=col>ASH</th></tr></thead>\n",
       "<tbody>\n",
       "\t<tr><td>84.69570 </td><td>5.001479 </td><td> 4.969356</td><td>4.821686 </td><td>0.7596701</td></tr>\n",
       "\t<tr><td>61.41853 </td><td>9.328688 </td><td>24.053235</td><td>2.356288 </td><td>1.1297551</td></tr>\n",
       "</tbody>\n",
       "</table>\n"
      ],
      "text/latex": [
       "\\begin{tabular}{lllll}\n",
       " WATER & PROTEIN & FAT & LACTOSE & ASH\\\\\n",
       "\\hline\n",
       "\t 84.69570  & 5.001479  &  4.969356 & 4.821686  & 0.7596701\\\\\n",
       "\t 61.41853  & 9.328688  & 24.053235 & 2.356288  & 1.1297551\\\\\n",
       "\\end{tabular}\n"
      ],
      "text/markdown": [
       "\n",
       "WATER | PROTEIN | FAT | LACTOSE | ASH | \n",
       "|---|---|\n",
       "| 84.69570  | 5.001479  |  4.969356 | 4.821686  | 0.7596701 | \n",
       "| 61.41853  | 9.328688  | 24.053235 | 2.356288  | 1.1297551 | \n",
       "\n",
       "\n"
      ],
      "text/plain": [
       "     WATER    PROTEIN  FAT       LACTOSE  ASH      \n",
       "[1,] 84.69570 5.001479  4.969356 4.821686 0.7596701\n",
       "[2,] 61.41853 9.328688 24.053235 2.356288 1.1297551"
      ]
     },
     "metadata": {},
     "output_type": "display_data"
    },
    {
     "data": {
      "text/html": [
       "<dl class=dl-horizontal>\n",
       "\t<dt>HORSE</dt>\n",
       "\t\t<dd>1</dd>\n",
       "\t<dt>ORANGUTAN</dt>\n",
       "\t\t<dd>1</dd>\n",
       "\t<dt>MONKEY</dt>\n",
       "\t\t<dd>1</dd>\n",
       "\t<dt>DONKEY</dt>\n",
       "\t\t<dd>1</dd>\n",
       "\t<dt>HIPPO</dt>\n",
       "\t\t<dd>1</dd>\n",
       "\t<dt>CAMEL</dt>\n",
       "\t\t<dd>1</dd>\n",
       "\t<dt>BISON</dt>\n",
       "\t\t<dd>1</dd>\n",
       "\t<dt>BUFFALO</dt>\n",
       "\t\t<dd>1</dd>\n",
       "\t<dt>GUINEA_PIG</dt>\n",
       "\t\t<dd>1</dd>\n",
       "\t<dt>CAT</dt>\n",
       "\t\t<dd>1</dd>\n",
       "\t<dt>FOX</dt>\n",
       "\t\t<dd>1</dd>\n",
       "\t<dt>LLAMA</dt>\n",
       "\t\t<dd>1</dd>\n",
       "\t<dt>MULE</dt>\n",
       "\t\t<dd>1</dd>\n",
       "\t<dt>PIG</dt>\n",
       "\t\t<dd>1</dd>\n",
       "\t<dt>ZEBRA</dt>\n",
       "\t\t<dd>1</dd>\n",
       "\t<dt>SHEEP</dt>\n",
       "\t\t<dd>1</dd>\n",
       "\t<dt>DOG</dt>\n",
       "\t\t<dd>1</dd>\n",
       "\t<dt>ELEPHANT</dt>\n",
       "\t\t<dd>2</dd>\n",
       "\t<dt>RABBIT</dt>\n",
       "\t\t<dd>1</dd>\n",
       "\t<dt>RAT</dt>\n",
       "\t\t<dd>2</dd>\n",
       "\t<dt>DEER</dt>\n",
       "\t\t<dd>2</dd>\n",
       "\t<dt>REINDEER</dt>\n",
       "\t\t<dd>2</dd>\n",
       "\t<dt>WHALE</dt>\n",
       "\t\t<dd>2</dd>\n",
       "\t<dt>SEAL</dt>\n",
       "\t\t<dd>2</dd>\n",
       "\t<dt>DOLPHIN</dt>\n",
       "\t\t<dd>2</dd>\n",
       "</dl>\n"
      ],
      "text/latex": [
       "\\begin{description*}\n",
       "\\item[HORSE] 1\n",
       "\\item[ORANGUTAN] 1\n",
       "\\item[MONKEY] 1\n",
       "\\item[DONKEY] 1\n",
       "\\item[HIPPO] 1\n",
       "\\item[CAMEL] 1\n",
       "\\item[BISON] 1\n",
       "\\item[BUFFALO] 1\n",
       "\\item[GUINEA\\textbackslash{}\\_PIG] 1\n",
       "\\item[CAT] 1\n",
       "\\item[FOX] 1\n",
       "\\item[LLAMA] 1\n",
       "\\item[MULE] 1\n",
       "\\item[PIG] 1\n",
       "\\item[ZEBRA] 1\n",
       "\\item[SHEEP] 1\n",
       "\\item[DOG] 1\n",
       "\\item[ELEPHANT] 2\n",
       "\\item[RABBIT] 1\n",
       "\\item[RAT] 2\n",
       "\\item[DEER] 2\n",
       "\\item[REINDEER] 2\n",
       "\\item[WHALE] 2\n",
       "\\item[SEAL] 2\n",
       "\\item[DOLPHIN] 2\n",
       "\\end{description*}\n"
      ],
      "text/markdown": [
       "HORSE\n",
       ":   1ORANGUTAN\n",
       ":   1MONKEY\n",
       ":   1DONKEY\n",
       ":   1HIPPO\n",
       ":   1CAMEL\n",
       ":   1BISON\n",
       ":   1BUFFALO\n",
       ":   1GUINEA_PIG\n",
       ":   1CAT\n",
       ":   1FOX\n",
       ":   1LLAMA\n",
       ":   1MULE\n",
       ":   1PIG\n",
       ":   1ZEBRA\n",
       ":   1SHEEP\n",
       ":   1DOG\n",
       ":   1ELEPHANT\n",
       ":   2RABBIT\n",
       ":   1RAT\n",
       ":   2DEER\n",
       ":   2REINDEER\n",
       ":   2WHALE\n",
       ":   2SEAL\n",
       ":   2DOLPHIN\n",
       ":   2\n",
       "\n"
      ],
      "text/plain": [
       "     HORSE  ORANGUTAN     MONKEY     DONKEY      HIPPO      CAMEL      BISON \n",
       "         1          1          1          1          1          1          1 \n",
       "   BUFFALO GUINEA_PIG        CAT        FOX      LLAMA       MULE        PIG \n",
       "         1          1          1          1          1          1          1 \n",
       "     ZEBRA      SHEEP        DOG   ELEPHANT     RABBIT        RAT       DEER \n",
       "         1          1          1          2          1          2          2 \n",
       "  REINDEER      WHALE       SEAL    DOLPHIN \n",
       "         2          2          2          2 "
      ]
     },
     "metadata": {},
     "output_type": "display_data"
    },
    {
     "name": "stdout",
     "output_type": "stream",
     "text": [
      "[1] \"##############################################################\"\n"
     ]
    },
    {
     "data": {
      "text/html": [
       "<table>\n",
       "<thead><tr><th></th><th scope=col>Comp.1</th><th scope=col>Comp.2</th><th scope=col>Comp.3</th><th scope=col>Comp.4</th><th scope=col>Comp.5</th></tr></thead>\n",
       "<tbody>\n",
       "\t<tr><th scope=row>1</th><td> 1.112848    </td><td> 0.06603277  </td><td> 0.09432454  </td><td>-0.03162076  </td><td> 0.0008469003</td></tr>\n",
       "\t<tr><th scope=row>2</th><td>-2.364801    </td><td>-0.14031964  </td><td>-0.20043965  </td><td> 0.06719411  </td><td>-0.0017996632</td></tr>\n",
       "</tbody>\n",
       "</table>\n"
      ],
      "text/latex": [
       "\\begin{tabular}{r|lllll}\n",
       "  & Comp.1 & Comp.2 & Comp.3 & Comp.4 & Comp.5\\\\\n",
       "\\hline\n",
       "\t1 &  1.112848     &  0.06603277   &  0.09432454   & -0.03162076   &  0.0008469003\\\\\n",
       "\t2 & -2.364801     & -0.14031964   & -0.20043965   &  0.06719411   & -0.0017996632\\\\\n",
       "\\end{tabular}\n"
      ],
      "text/markdown": [
       "\n",
       "| <!--/--> | Comp.1 | Comp.2 | Comp.3 | Comp.4 | Comp.5 | \n",
       "|---|---|\n",
       "| 1 |  1.112848     |  0.06603277   |  0.09432454   | -0.03162076   |  0.0008469003 | \n",
       "| 2 | -2.364801     | -0.14031964   | -0.20043965   |  0.06719411   | -0.0017996632 | \n",
       "\n",
       "\n"
      ],
      "text/plain": [
       "  Comp.1    Comp.2      Comp.3      Comp.4      Comp.5       \n",
       "1  1.112848  0.06603277  0.09432454 -0.03162076  0.0008469003\n",
       "2 -2.364801 -0.14031964 -0.20043965  0.06719411 -0.0017996632"
      ]
     },
     "metadata": {},
     "output_type": "display_data"
    },
    {
     "data": {
      "text/plain": [
       "K-means clustering with 2 clusters of sizes 17, 8\n",
       "\n",
       "Cluster means:\n",
       "     WATER  PROTEIN       FAT  LACTOSE       ASH\n",
       "1 85.48824 4.570588  4.488235 4.994118 0.6688235\n",
       "2 62.66250 9.700000 22.675000 2.300000 1.2762500\n",
       "\n",
       "Clustering vector:\n",
       "     HORSE  ORANGUTAN     MONKEY     DONKEY      HIPPO      CAMEL      BISON \n",
       "         1          1          1          1          1          1          1 \n",
       "   BUFFALO GUINEA_PIG        CAT        FOX      LLAMA       MULE        PIG \n",
       "         1          1          1          1          1          1          1 \n",
       "     ZEBRA      SHEEP        DOG   ELEPHANT     RABBIT        RAT       DEER \n",
       "         1          1          1          2          2          2          2 \n",
       "  REINDEER      WHALE       SEAL    DOLPHIN \n",
       "         2          2          2          2 \n",
       "\n",
       "Within cluster sum of squares by cluster:\n",
       "[1]  521.8994 1664.9235\n",
       " (between_SS / total_SS =  68.8 %)\n",
       "\n",
       "Available components:\n",
       "\n",
       "[1] \"cluster\"      \"centers\"      \"totss\"        \"withinss\"     \"tot.withinss\"\n",
       "[6] \"betweenss\"    \"size\"         \"iter\"         \"ifault\"      "
      ]
     },
     "metadata": {},
     "output_type": "display_data"
    }
   ],
   "source": [
    "#GMM\n",
    "ngrupo <- 2\n",
    "clus <-Mclust(datos, G=ngrupo)\n",
    "clus\n",
    "cl <- clus$classification\n",
    "centers <- t(clus$parameters$mean)\n",
    "centers\n",
    "cl\n",
    "print(\"##############################################################\")\n",
    "#Kmean\n",
    "cl<-kmeans(datos,ngrupo,iter.max=1000,nstart=10)\n",
    "res <- princomp(datos, cor=TRUE)\n",
    "res2 <- predict(res,cl$centers)\n",
    "res2\n",
    "cl"
   ]
  },
  {
   "cell_type": "markdown",
   "metadata": {},
   "source": [
    "<b>Los resultados son muy parecidos, la unica diferencia es que con la cantidad de grupos el conejo pertenece al grupo 1 en el GMM y en el Kmean pertenece al grupo 2 </b>"
   ]
  },
  {
   "cell_type": "code",
   "execution_count": 5,
   "metadata": {},
   "outputs": [
    {
     "data": {
      "text/plain": [
       "'Mclust' model object: (EEV,3) \n",
       "\n",
       "Available components: \n",
       " [1] \"call\"           \"data\"           \"modelName\"      \"n\"             \n",
       " [5] \"d\"              \"G\"              \"BIC\"            \"bic\"           \n",
       " [9] \"loglik\"         \"df\"             \"hypvol\"         \"parameters\"    \n",
       "[13] \"z\"              \"classification\" \"uncertainty\"   "
      ]
     },
     "metadata": {},
     "output_type": "display_data"
    },
    {
     "data": {
      "text/html": [
       "<table>\n",
       "<thead><tr><th scope=col>WATER</th><th scope=col>PROTEIN</th><th scope=col>FAT</th><th scope=col>LACTOSE</th><th scope=col>ASH</th></tr></thead>\n",
       "<tbody>\n",
       "\t<tr><td>86.26361 </td><td> 3.879049</td><td> 3.921919</td><td>5.221110 </td><td>0.6421765</td></tr>\n",
       "\t<tr><td>72.23683 </td><td> 7.520039</td><td>14.782487</td><td>3.660315 </td><td>0.7079534</td></tr>\n",
       "\t<tr><td>64.28310 </td><td>10.566706</td><td>21.483587</td><td>1.983296 </td><td>1.5083364</td></tr>\n",
       "</tbody>\n",
       "</table>\n"
      ],
      "text/latex": [
       "\\begin{tabular}{lllll}\n",
       " WATER & PROTEIN & FAT & LACTOSE & ASH\\\\\n",
       "\\hline\n",
       "\t 86.26361  &  3.879049 &  3.921919 & 5.221110  & 0.6421765\\\\\n",
       "\t 72.23683  &  7.520039 & 14.782487 & 3.660315  & 0.7079534\\\\\n",
       "\t 64.28310  & 10.566706 & 21.483587 & 1.983296  & 1.5083364\\\\\n",
       "\\end{tabular}\n"
      ],
      "text/markdown": [
       "\n",
       "WATER | PROTEIN | FAT | LACTOSE | ASH | \n",
       "|---|---|---|\n",
       "| 86.26361  |  3.879049 |  3.921919 | 5.221110  | 0.6421765 | \n",
       "| 72.23683  |  7.520039 | 14.782487 | 3.660315  | 0.7079534 | \n",
       "| 64.28310  | 10.566706 | 21.483587 | 1.983296  | 1.5083364 | \n",
       "\n",
       "\n"
      ],
      "text/plain": [
       "     WATER    PROTEIN   FAT       LACTOSE  ASH      \n",
       "[1,] 86.26361  3.879049  3.921919 5.221110 0.6421765\n",
       "[2,] 72.23683  7.520039 14.782487 3.660315 0.7079534\n",
       "[3,] 64.28310 10.566706 21.483587 1.983296 1.5083364"
      ]
     },
     "metadata": {},
     "output_type": "display_data"
    },
    {
     "data": {
      "text/html": [
       "<dl class=dl-horizontal>\n",
       "\t<dt>HORSE</dt>\n",
       "\t\t<dd>1</dd>\n",
       "\t<dt>ORANGUTAN</dt>\n",
       "\t\t<dd>1</dd>\n",
       "\t<dt>MONKEY</dt>\n",
       "\t\t<dd>1</dd>\n",
       "\t<dt>DONKEY</dt>\n",
       "\t\t<dd>1</dd>\n",
       "\t<dt>HIPPO</dt>\n",
       "\t\t<dd>1</dd>\n",
       "\t<dt>CAMEL</dt>\n",
       "\t\t<dd>1</dd>\n",
       "\t<dt>BISON</dt>\n",
       "\t\t<dd>1</dd>\n",
       "\t<dt>BUFFALO</dt>\n",
       "\t\t<dd>2</dd>\n",
       "\t<dt>GUINEA_PIG</dt>\n",
       "\t\t<dd>2</dd>\n",
       "\t<dt>CAT</dt>\n",
       "\t\t<dd>2</dd>\n",
       "\t<dt>FOX</dt>\n",
       "\t\t<dd>1</dd>\n",
       "\t<dt>LLAMA</dt>\n",
       "\t\t<dd>1</dd>\n",
       "\t<dt>MULE</dt>\n",
       "\t\t<dd>1</dd>\n",
       "\t<dt>PIG</dt>\n",
       "\t\t<dd>1</dd>\n",
       "\t<dt>ZEBRA</dt>\n",
       "\t\t<dd>1</dd>\n",
       "\t<dt>SHEEP</dt>\n",
       "\t\t<dd>1</dd>\n",
       "\t<dt>DOG</dt>\n",
       "\t\t<dd>1</dd>\n",
       "\t<dt>ELEPHANT</dt>\n",
       "\t\t<dd>2</dd>\n",
       "\t<dt>RABBIT</dt>\n",
       "\t\t<dd>3</dd>\n",
       "\t<dt>RAT</dt>\n",
       "\t\t<dd>3</dd>\n",
       "\t<dt>DEER</dt>\n",
       "\t\t<dd>3</dd>\n",
       "\t<dt>REINDEER</dt>\n",
       "\t\t<dd>3</dd>\n",
       "\t<dt>WHALE</dt>\n",
       "\t\t<dd>3</dd>\n",
       "\t<dt>SEAL</dt>\n",
       "\t\t<dd>3</dd>\n",
       "\t<dt>DOLPHIN</dt>\n",
       "\t\t<dd>2</dd>\n",
       "</dl>\n"
      ],
      "text/latex": [
       "\\begin{description*}\n",
       "\\item[HORSE] 1\n",
       "\\item[ORANGUTAN] 1\n",
       "\\item[MONKEY] 1\n",
       "\\item[DONKEY] 1\n",
       "\\item[HIPPO] 1\n",
       "\\item[CAMEL] 1\n",
       "\\item[BISON] 1\n",
       "\\item[BUFFALO] 2\n",
       "\\item[GUINEA\\textbackslash{}\\_PIG] 2\n",
       "\\item[CAT] 2\n",
       "\\item[FOX] 1\n",
       "\\item[LLAMA] 1\n",
       "\\item[MULE] 1\n",
       "\\item[PIG] 1\n",
       "\\item[ZEBRA] 1\n",
       "\\item[SHEEP] 1\n",
       "\\item[DOG] 1\n",
       "\\item[ELEPHANT] 2\n",
       "\\item[RABBIT] 3\n",
       "\\item[RAT] 3\n",
       "\\item[DEER] 3\n",
       "\\item[REINDEER] 3\n",
       "\\item[WHALE] 3\n",
       "\\item[SEAL] 3\n",
       "\\item[DOLPHIN] 2\n",
       "\\end{description*}\n"
      ],
      "text/markdown": [
       "HORSE\n",
       ":   1ORANGUTAN\n",
       ":   1MONKEY\n",
       ":   1DONKEY\n",
       ":   1HIPPO\n",
       ":   1CAMEL\n",
       ":   1BISON\n",
       ":   1BUFFALO\n",
       ":   2GUINEA_PIG\n",
       ":   2CAT\n",
       ":   2FOX\n",
       ":   1LLAMA\n",
       ":   1MULE\n",
       ":   1PIG\n",
       ":   1ZEBRA\n",
       ":   1SHEEP\n",
       ":   1DOG\n",
       ":   1ELEPHANT\n",
       ":   2RABBIT\n",
       ":   3RAT\n",
       ":   3DEER\n",
       ":   3REINDEER\n",
       ":   3WHALE\n",
       ":   3SEAL\n",
       ":   3DOLPHIN\n",
       ":   2\n",
       "\n"
      ],
      "text/plain": [
       "     HORSE  ORANGUTAN     MONKEY     DONKEY      HIPPO      CAMEL      BISON \n",
       "         1          1          1          1          1          1          1 \n",
       "   BUFFALO GUINEA_PIG        CAT        FOX      LLAMA       MULE        PIG \n",
       "         2          2          2          1          1          1          1 \n",
       "     ZEBRA      SHEEP        DOG   ELEPHANT     RABBIT        RAT       DEER \n",
       "         1          1          1          2          3          3          3 \n",
       "  REINDEER      WHALE       SEAL    DOLPHIN \n",
       "         3          3          3          2 "
      ]
     },
     "metadata": {},
     "output_type": "display_data"
    },
    {
     "name": "stdout",
     "output_type": "stream",
     "text": [
      "[1] \"##############################################################\"\n"
     ]
    },
    {
     "data": {
      "text/html": [
       "<table>\n",
       "<thead><tr><th></th><th scope=col>Comp.1</th><th scope=col>Comp.2</th><th scope=col>Comp.3</th><th scope=col>Comp.4</th><th scope=col>Comp.5</th></tr></thead>\n",
       "<tbody>\n",
       "\t<tr><th scope=row>1</th><td> 1.243827   </td><td> 0.0248324  </td><td> 0.07949783 </td><td>-0.02299768 </td><td> 0.004865841</td></tr>\n",
       "\t<tr><th scope=row>2</th><td>-3.831081   </td><td>-2.2408320  </td><td> 0.09790001 </td><td>-0.02910750 </td><td>-0.029457957</td></tr>\n",
       "\t<tr><th scope=row>3</th><td>-1.748439   </td><td> 0.5834780  </td><td>-0.20968076 </td><td> 0.06088255 </td><td>-0.002705362</td></tr>\n",
       "</tbody>\n",
       "</table>\n"
      ],
      "text/latex": [
       "\\begin{tabular}{r|lllll}\n",
       "  & Comp.1 & Comp.2 & Comp.3 & Comp.4 & Comp.5\\\\\n",
       "\\hline\n",
       "\t1 &  1.243827    &  0.0248324   &  0.07949783  & -0.02299768  &  0.004865841\\\\\n",
       "\t2 & -3.831081    & -2.2408320   &  0.09790001  & -0.02910750  & -0.029457957\\\\\n",
       "\t3 & -1.748439    &  0.5834780   & -0.20968076  &  0.06088255  & -0.002705362\\\\\n",
       "\\end{tabular}\n"
      ],
      "text/markdown": [
       "\n",
       "| <!--/--> | Comp.1 | Comp.2 | Comp.3 | Comp.4 | Comp.5 | \n",
       "|---|---|---|\n",
       "| 1 |  1.243827    |  0.0248324   |  0.07949783  | -0.02299768  |  0.004865841 | \n",
       "| 2 | -3.831081    | -2.2408320   |  0.09790001  | -0.02910750  | -0.029457957 | \n",
       "| 3 | -1.748439    |  0.5834780   | -0.20968076  |  0.06088255  | -0.002705362 | \n",
       "\n",
       "\n"
      ],
      "text/plain": [
       "  Comp.1    Comp.2     Comp.3      Comp.4      Comp.5      \n",
       "1  1.243827  0.0248324  0.07949783 -0.02299768  0.004865841\n",
       "2 -3.831081 -2.2408320  0.09790001 -0.02910750 -0.029457957\n",
       "3 -1.748439  0.5834780 -0.20968076  0.06088255 -0.002705362"
      ]
     },
     "metadata": {},
     "output_type": "display_data"
    },
    {
     "data": {
      "text/plain": [
       "K-means clustering with 3 clusters of sizes 16, 2, 7\n",
       "\n",
       "Cluster means:\n",
       "     WATER   PROTEIN      FAT  LACTOSE      ASH\n",
       "1 86.06250  4.275000  4.17500 5.118750 0.635625\n",
       "2 45.65000 10.150000 38.45000 0.450000 0.690000\n",
       "3 69.47143  9.514286 16.28571 2.928571 1.432857\n",
       "\n",
       "Clustering vector:\n",
       "     HORSE  ORANGUTAN     MONKEY     DONKEY      HIPPO      CAMEL      BISON \n",
       "         1          1          1          1          1          1          1 \n",
       "   BUFFALO GUINEA_PIG        CAT        FOX      LLAMA       MULE        PIG \n",
       "         1          1          1          1          1          1          1 \n",
       "     ZEBRA      SHEEP        DOG   ELEPHANT     RABBIT        RAT       DEER \n",
       "         1          1          3          3          3          3          3 \n",
       "  REINDEER      WHALE       SEAL    DOLPHIN \n",
       "         3          3          2          2 \n",
       "\n",
       "Within cluster sum of squares by cluster:\n",
       "[1] 377.2215  27.1912 299.9911\n",
       " (between_SS / total_SS =  89.9 %)\n",
       "\n",
       "Available components:\n",
       "\n",
       "[1] \"cluster\"      \"centers\"      \"totss\"        \"withinss\"     \"tot.withinss\"\n",
       "[6] \"betweenss\"    \"size\"         \"iter\"         \"ifault\"      "
      ]
     },
     "metadata": {},
     "output_type": "display_data"
    }
   ],
   "source": [
    "#GMM\n",
    "ngrupo <- 3\n",
    "clus <-Mclust(datos, G=ngrupo)\n",
    "clus\n",
    "cl <- clus$classification\n",
    "centers <- t(clus$parameters$mean)\n",
    "centers\n",
    "cl\n",
    "print(\"##############################################################\")\n",
    "#Kmean\n",
    "cl<-kmeans(datos,ngrupo,iter.max=1000,nstart=10)\n",
    "res <- princomp(datos, cor=TRUE)\n",
    "res2 <- predict(res,cl$centers)\n",
    "res2\n",
    "cl"
   ]
  },
  {
   "cell_type": "code",
   "execution_count": 6,
   "metadata": {},
   "outputs": [
    {
     "data": {
      "text/plain": [
       "'Mclust' model object: (VEV,4) \n",
       "\n",
       "Available components: \n",
       " [1] \"call\"           \"data\"           \"modelName\"      \"n\"             \n",
       " [5] \"d\"              \"G\"              \"BIC\"            \"bic\"           \n",
       " [9] \"loglik\"         \"df\"             \"hypvol\"         \"parameters\"    \n",
       "[13] \"z\"              \"classification\" \"uncertainty\"   "
      ]
     },
     "metadata": {},
     "output_type": "display_data"
    },
    {
     "data": {
      "text/html": [
       "<table>\n",
       "<thead><tr><th scope=col>WATER</th><th scope=col>PROTEIN</th><th scope=col>FAT</th><th scope=col>LACTOSE</th><th scope=col>ASH</th></tr></thead>\n",
       "<tbody>\n",
       "\t<tr><td>89.45999 </td><td> 1.980001</td><td> 2.080005</td><td>6.200009 </td><td>0.3279979</td></tr>\n",
       "\t<tr><td>71.88271 </td><td> 7.298580</td><td>15.881214</td><td>3.088610 </td><td>0.7512686</td></tr>\n",
       "\t<tr><td>84.71493 </td><td> 4.756873</td><td> 4.756149</td><td>5.100211 </td><td>0.8185953</td></tr>\n",
       "\t<tr><td>67.86000 </td><td>10.740002</td><td>17.380003</td><td>2.379999 </td><td>1.6400005</td></tr>\n",
       "</tbody>\n",
       "</table>\n"
      ],
      "text/latex": [
       "\\begin{tabular}{lllll}\n",
       " WATER & PROTEIN & FAT & LACTOSE & ASH\\\\\n",
       "\\hline\n",
       "\t 89.45999  &  1.980001 &  2.080005 & 6.200009  & 0.3279979\\\\\n",
       "\t 71.88271  &  7.298580 & 15.881214 & 3.088610  & 0.7512686\\\\\n",
       "\t 84.71493  &  4.756873 &  4.756149 & 5.100211  & 0.8185953\\\\\n",
       "\t 67.86000  & 10.740002 & 17.380003 & 2.379999  & 1.6400005\\\\\n",
       "\\end{tabular}\n"
      ],
      "text/markdown": [
       "\n",
       "WATER | PROTEIN | FAT | LACTOSE | ASH | \n",
       "|---|---|---|---|\n",
       "| 89.45999  |  1.980001 |  2.080005 | 6.200009  | 0.3279979 | \n",
       "| 71.88271  |  7.298580 | 15.881214 | 3.088610  | 0.7512686 | \n",
       "| 84.71493  |  4.756873 |  4.756149 | 5.100211  | 0.8185953 | \n",
       "| 67.86000  | 10.740002 | 17.380003 | 2.379999  | 1.6400005 | \n",
       "\n",
       "\n"
      ],
      "text/plain": [
       "     WATER    PROTEIN   FAT       LACTOSE  ASH      \n",
       "[1,] 89.45999  1.980001  2.080005 6.200009 0.3279979\n",
       "[2,] 71.88271  7.298580 15.881214 3.088610 0.7512686\n",
       "[3,] 84.71493  4.756873  4.756149 5.100211 0.8185953\n",
       "[4,] 67.86000 10.740002 17.380003 2.379999 1.6400005"
      ]
     },
     "metadata": {},
     "output_type": "display_data"
    },
    {
     "data": {
      "text/html": [
       "<dl class=dl-horizontal>\n",
       "\t<dt>HORSE</dt>\n",
       "\t\t<dd>1</dd>\n",
       "\t<dt>ORANGUTAN</dt>\n",
       "\t\t<dd>1</dd>\n",
       "\t<dt>MONKEY</dt>\n",
       "\t\t<dd>1</dd>\n",
       "\t<dt>DONKEY</dt>\n",
       "\t\t<dd>1</dd>\n",
       "\t<dt>HIPPO</dt>\n",
       "\t\t<dd>2</dd>\n",
       "\t<dt>CAMEL</dt>\n",
       "\t\t<dd>3</dd>\n",
       "\t<dt>BISON</dt>\n",
       "\t\t<dd>3</dd>\n",
       "\t<dt>BUFFALO</dt>\n",
       "\t\t<dd>3</dd>\n",
       "\t<dt>GUINEA_PIG</dt>\n",
       "\t\t<dd>2</dd>\n",
       "\t<dt>CAT</dt>\n",
       "\t\t<dd>2</dd>\n",
       "\t<dt>FOX</dt>\n",
       "\t\t<dd>3</dd>\n",
       "\t<dt>LLAMA</dt>\n",
       "\t\t<dd>3</dd>\n",
       "\t<dt>MULE</dt>\n",
       "\t\t<dd>1</dd>\n",
       "\t<dt>PIG</dt>\n",
       "\t\t<dd>2</dd>\n",
       "\t<dt>ZEBRA</dt>\n",
       "\t\t<dd>3</dd>\n",
       "\t<dt>SHEEP</dt>\n",
       "\t\t<dd>3</dd>\n",
       "\t<dt>DOG</dt>\n",
       "\t\t<dd>2</dd>\n",
       "\t<dt>ELEPHANT</dt>\n",
       "\t\t<dd>2</dd>\n",
       "\t<dt>RABBIT</dt>\n",
       "\t\t<dd>4</dd>\n",
       "\t<dt>RAT</dt>\n",
       "\t\t<dd>4</dd>\n",
       "\t<dt>DEER</dt>\n",
       "\t\t<dd>4</dd>\n",
       "\t<dt>REINDEER</dt>\n",
       "\t\t<dd>4</dd>\n",
       "\t<dt>WHALE</dt>\n",
       "\t\t<dd>4</dd>\n",
       "\t<dt>SEAL</dt>\n",
       "\t\t<dd>2</dd>\n",
       "\t<dt>DOLPHIN</dt>\n",
       "\t\t<dd>2</dd>\n",
       "</dl>\n"
      ],
      "text/latex": [
       "\\begin{description*}\n",
       "\\item[HORSE] 1\n",
       "\\item[ORANGUTAN] 1\n",
       "\\item[MONKEY] 1\n",
       "\\item[DONKEY] 1\n",
       "\\item[HIPPO] 2\n",
       "\\item[CAMEL] 3\n",
       "\\item[BISON] 3\n",
       "\\item[BUFFALO] 3\n",
       "\\item[GUINEA\\textbackslash{}\\_PIG] 2\n",
       "\\item[CAT] 2\n",
       "\\item[FOX] 3\n",
       "\\item[LLAMA] 3\n",
       "\\item[MULE] 1\n",
       "\\item[PIG] 2\n",
       "\\item[ZEBRA] 3\n",
       "\\item[SHEEP] 3\n",
       "\\item[DOG] 2\n",
       "\\item[ELEPHANT] 2\n",
       "\\item[RABBIT] 4\n",
       "\\item[RAT] 4\n",
       "\\item[DEER] 4\n",
       "\\item[REINDEER] 4\n",
       "\\item[WHALE] 4\n",
       "\\item[SEAL] 2\n",
       "\\item[DOLPHIN] 2\n",
       "\\end{description*}\n"
      ],
      "text/markdown": [
       "HORSE\n",
       ":   1ORANGUTAN\n",
       ":   1MONKEY\n",
       ":   1DONKEY\n",
       ":   1HIPPO\n",
       ":   2CAMEL\n",
       ":   3BISON\n",
       ":   3BUFFALO\n",
       ":   3GUINEA_PIG\n",
       ":   2CAT\n",
       ":   2FOX\n",
       ":   3LLAMA\n",
       ":   3MULE\n",
       ":   1PIG\n",
       ":   2ZEBRA\n",
       ":   3SHEEP\n",
       ":   3DOG\n",
       ":   2ELEPHANT\n",
       ":   2RABBIT\n",
       ":   4RAT\n",
       ":   4DEER\n",
       ":   4REINDEER\n",
       ":   4WHALE\n",
       ":   4SEAL\n",
       ":   2DOLPHIN\n",
       ":   2\n",
       "\n"
      ],
      "text/plain": [
       "     HORSE  ORANGUTAN     MONKEY     DONKEY      HIPPO      CAMEL      BISON \n",
       "         1          1          1          1          2          3          3 \n",
       "   BUFFALO GUINEA_PIG        CAT        FOX      LLAMA       MULE        PIG \n",
       "         3          2          2          3          3          1          2 \n",
       "     ZEBRA      SHEEP        DOG   ELEPHANT     RABBIT        RAT       DEER \n",
       "         3          3          2          2          4          4          4 \n",
       "  REINDEER      WHALE       SEAL    DOLPHIN \n",
       "         4          4          2          2 "
      ]
     },
     "metadata": {},
     "output_type": "display_data"
    },
    {
     "name": "stdout",
     "output_type": "stream",
     "text": [
      "[1] \"##############################################################\"\n"
     ]
    },
    {
     "data": {
      "text/html": [
       "<table>\n",
       "<thead><tr><th></th><th scope=col>Comp.1</th><th scope=col>Comp.2</th><th scope=col>Comp.3</th><th scope=col>Comp.4</th><th scope=col>Comp.5</th></tr></thead>\n",
       "<tbody>\n",
       "\t<tr><th scope=row>1</th><td> 1.87606405 </td><td>-0.2017241  </td><td>-0.007713097</td><td> 0.09635908 </td><td>-0.003291286</td></tr>\n",
       "\t<tr><th scope=row>2</th><td>-1.87604083 </td><td> 0.5598512  </td><td>-0.299886203</td><td> 0.09929465 </td><td> 0.007419768</td></tr>\n",
       "\t<tr><th scope=row>3</th><td> 0.02253818 </td><td> 0.4485425  </td><td> 0.240092595</td><td>-0.21444910 </td><td> 0.006758595</td></tr>\n",
       "\t<tr><th scope=row>4</th><td>-3.83108138 </td><td>-2.2408320  </td><td> 0.097900012</td><td>-0.02910750 </td><td>-0.029457957</td></tr>\n",
       "</tbody>\n",
       "</table>\n"
      ],
      "text/latex": [
       "\\begin{tabular}{r|lllll}\n",
       "  & Comp.1 & Comp.2 & Comp.3 & Comp.4 & Comp.5\\\\\n",
       "\\hline\n",
       "\t1 &  1.87606405  & -0.2017241   & -0.007713097 &  0.09635908  & -0.003291286\\\\\n",
       "\t2 & -1.87604083  &  0.5598512   & -0.299886203 &  0.09929465  &  0.007419768\\\\\n",
       "\t3 &  0.02253818  &  0.4485425   &  0.240092595 & -0.21444910  &  0.006758595\\\\\n",
       "\t4 & -3.83108138  & -2.2408320   &  0.097900012 & -0.02910750  & -0.029457957\\\\\n",
       "\\end{tabular}\n"
      ],
      "text/markdown": [
       "\n",
       "| <!--/--> | Comp.1 | Comp.2 | Comp.3 | Comp.4 | Comp.5 | \n",
       "|---|---|---|---|\n",
       "| 1 |  1.87606405  | -0.2017241   | -0.007713097 |  0.09635908  | -0.003291286 | \n",
       "| 2 | -1.87604083  |  0.5598512   | -0.299886203 |  0.09929465  |  0.007419768 | \n",
       "| 3 |  0.02253818  |  0.4485425   |  0.240092595 | -0.21444910  |  0.006758595 | \n",
       "| 4 | -3.83108138  | -2.2408320   |  0.097900012 | -0.02910750  | -0.029457957 | \n",
       "\n",
       "\n"
      ],
      "text/plain": [
       "  Comp.1      Comp.2     Comp.3       Comp.4      Comp.5      \n",
       "1  1.87606405 -0.2017241 -0.007713097  0.09635908 -0.003291286\n",
       "2 -1.87604083  0.5598512 -0.299886203  0.09929465  0.007419768\n",
       "3  0.02253818  0.4485425  0.240092595 -0.21444910  0.006758595\n",
       "4 -3.83108138 -2.2408320  0.097900012 -0.02910750 -0.029457957"
      ]
     },
     "metadata": {},
     "output_type": "display_data"
    },
    {
     "data": {
      "text/plain": [
       "K-means clustering with 4 clusters of sizes 10, 6, 7, 2\n",
       "\n",
       "Cluster means:\n",
       "     WATER   PROTEIN      FAT  LACTOSE       ASH\n",
       "1 88.50000  2.570000  2.80000 5.680000 0.4850000\n",
       "2 68.33333  9.550000 17.41667 2.916667 1.4716667\n",
       "3 81.18571  7.428571  6.90000 4.014286 0.9314286\n",
       "4 45.65000 10.150000 38.45000 0.450000 0.6900000\n",
       "\n",
       "Clustering vector:\n",
       "     HORSE  ORANGUTAN     MONKEY     DONKEY      HIPPO      CAMEL      BISON \n",
       "         1          1          1          1          1          1          1 \n",
       "   BUFFALO GUINEA_PIG        CAT        FOX      LLAMA       MULE        PIG \n",
       "         3          3          3          3          1          1          3 \n",
       "     ZEBRA      SHEEP        DOG   ELEPHANT     RABBIT        RAT       DEER \n",
       "         1          3          3          2          2          2          2 \n",
       "  REINDEER      WHALE       SEAL    DOLPHIN \n",
       "         2          2          4          4 \n",
       "\n",
       "Within cluster sum of squares by cluster:\n",
       "[1]  59.41225 191.74708  63.53491  27.19120\n",
       " (between_SS / total_SS =  95.1 %)\n",
       "\n",
       "Available components:\n",
       "\n",
       "[1] \"cluster\"      \"centers\"      \"totss\"        \"withinss\"     \"tot.withinss\"\n",
       "[6] \"betweenss\"    \"size\"         \"iter\"         \"ifault\"      "
      ]
     },
     "metadata": {},
     "output_type": "display_data"
    }
   ],
   "source": [
    "#GMM\n",
    "ngrupo <- 4\n",
    "clus <-Mclust(datos, G=ngrupo)\n",
    "clus\n",
    "cl <- clus$classification\n",
    "centers <- t(clus$parameters$mean)\n",
    "centers\n",
    "cl\n",
    "print(\"##############################################################\")\n",
    "#Kmean\n",
    "cl<-kmeans(datos,ngrupo,iter.max=1000,nstart=10)\n",
    "res <- princomp(datos, cor=TRUE)\n",
    "res2 <- predict(res,cl$centers)\n",
    "res2\n",
    "cl"
   ]
  },
  {
   "cell_type": "markdown",
   "metadata": {},
   "source": [
    "<b> Las agrupaciones cuando se hacen 3 y 4 grupos cambian totalmente porque se crean grupos distintos en GMM y Kmean </b>"
   ]
  },
  {
   "cell_type": "markdown",
   "metadata": {},
   "source": [
    "En lo que sigue, utilizaremos el método hclust, que permite realizar análisis de agrupamiento jerárquico"
   ]
  },
  {
   "cell_type": "code",
   "execution_count": 8,
   "metadata": {},
   "outputs": [
    {
     "data": {
      "image/png": "[encoded data removed]",
      "text/plain": [
       "plot without title"
      ]
     },
     "metadata": {},
     "output_type": "display_data"
    },
    {
     "data": {
      "image/png": "[encoded data removed]",
      "text/plain": [
       "Plot with title \"Cluster Dendrogram\""
      ]
     },
     "metadata": {},
     "output_type": "display_data"
    }
   ],
   "source": [
    "disim <- dist(datos)\n",
    "res3 <- hclust(disim)\n",
    "biplot(res, xlabs= cutree(res3,4))\n",
    "plot(res3)"
   ]
  },
  {
   "cell_type": "code",
   "execution_count": 9,
   "metadata": {},
   "outputs": [
    {
     "ename": "ERROR",
     "evalue": "Error in parse(text = x, srcfile = src): <text>:1:11: unexpected numeric constant\n1: Ejercicio 3\n              ^\n",
     "output_type": "error",
     "traceback": [
      "Error in parse(text = x, srcfile = src): <text>:1:11: unexpected numeric constant\n1: Ejercicio 3\n              ^\nTraceback:\n"
     ]
    }
   ],
   "source": [
    "Ejercicio 3: \n",
    "a) Explique como funciona el método hclust, describa parámetros de entrada y salida.\n",
    "\n",
    "el metodo hclust toma como input la matriz de disimilaridad,\n",
    "el metodo (single, complete, average. Metodos vistos de clusterizacion jerarquica) y  members que por defecto es nulo.\n",
    "la salida es un cluster dendogram.\n",
    "\n",
    "b) Interprete y comente los resultados obtenidos.\n",
    "\n",
    "por defecto hclust entrega un dendograma utilizando el metodo complete link, por tanto el resultado es un dendograma aglomerativo\n",
    "\n",
    "c) Utilice otros parámetros en hclust y discuta como varían los resultados. "
   ]
  },
  {
   "cell_type": "code",
   "execution_count": 11,
   "metadata": {},
   "outputs": [
    {
     "data": {
      "image/png": "[encoded data removed]",
      "text/plain": [
       "Plot with title \"Cluster Dendrogram\""
      ]
     },
     "metadata": {},
     "output_type": "display_data"
    },
    {
     "data": {
      "image/png": "[encoded data removed]",
      "text/plain": [
       "Plot with title \"Cluster Dendrogram\""
      ]
     },
     "metadata": {},
     "output_type": "display_data"
    }
   ],
   "source": [
    "plot(hclust(disim,method=\"single\"))\n",
    "\n",
    "plot(hclust(disim,method=\"average\"))\n"
   ]
  },
  {
   "cell_type": "markdown",
   "metadata": {},
   "source": [
    "<b> Los cambios mas notorios son los cambios jerarquicos, ya que se puede notar que los animales son agrupados casi de la misma\n",
    "forma en los dos tipos de hclust</b>"
   ]
  },
  {
   "cell_type": "code",
   "execution_count": null,
   "metadata": {},
   "outputs": [],
   "source": [
    "Ejercicio 4: \n",
    "a) Realice un análisis de clustering con Kmeans, GMM y Análisis Jerárquico para el conjunto de datos iris.csv\n",
    "Interprete sus resultados.\n",
    "b) Calcule alguna de las medidas de calidad estudiadas (purity, rand index o mutual information) \n",
    "para cada uno de los análisis realizado en (a). Discuta sus resultados."
   ]
  },
  {
   "cell_type": "code",
   "execution_count": 37,
   "metadata": {},
   "outputs": [
    {
     "name": "stdout",
     "output_type": "stream",
     "text": [
      "  [1] Iris-setosa     Iris-setosa     Iris-setosa     Iris-setosa    \n",
      "  [5] Iris-setosa     Iris-setosa     Iris-setosa     Iris-setosa    \n",
      "  [9] Iris-setosa     Iris-setosa     Iris-setosa     Iris-setosa    \n",
      " [13] Iris-setosa     Iris-setosa     Iris-setosa     Iris-setosa    \n",
      " [17] Iris-setosa     Iris-setosa     Iris-setosa     Iris-setosa    \n",
      " [21] Iris-setosa     Iris-setosa     Iris-setosa     Iris-setosa    \n",
      " [25] Iris-setosa     Iris-setosa     Iris-setosa     Iris-setosa    \n",
      " [29] Iris-setosa     Iris-setosa     Iris-setosa     Iris-setosa    \n",
      " [33] Iris-setosa     Iris-setosa     Iris-setosa     Iris-setosa    \n",
      " [37] Iris-setosa     Iris-setosa     Iris-setosa     Iris-setosa    \n",
      " [41] Iris-setosa     Iris-setosa     Iris-setosa     Iris-setosa    \n",
      " [45] Iris-setosa     Iris-setosa     Iris-setosa     Iris-setosa    \n",
      " [49] Iris-setosa     Iris-setosa     Iris-versicolor Iris-versicolor\n",
      " [53] Iris-versicolor Iris-versicolor Iris-versicolor Iris-versicolor\n",
      " [57] Iris-versicolor Iris-versicolor Iris-versicolor Iris-versicolor\n",
      " [61] Iris-versicolor Iris-versicolor Iris-versicolor Iris-versicolor\n",
      " [65] Iris-versicolor Iris-versicolor Iris-versicolor Iris-versicolor\n",
      " [69] Iris-versicolor Iris-versicolor Iris-versicolor Iris-versicolor\n",
      " [73] Iris-versicolor Iris-versicolor Iris-versicolor Iris-versicolor\n",
      " [77] Iris-versicolor Iris-versicolor Iris-versicolor Iris-versicolor\n",
      " [81] Iris-versicolor Iris-versicolor Iris-versicolor Iris-versicolor\n",
      " [85] Iris-versicolor Iris-versicolor Iris-versicolor Iris-versicolor\n",
      " [89] Iris-versicolor Iris-versicolor Iris-versicolor Iris-versicolor\n",
      " [93] Iris-versicolor Iris-versicolor Iris-versicolor Iris-versicolor\n",
      " [97] Iris-versicolor Iris-versicolor Iris-versicolor Iris-versicolor\n",
      "[101] Iris-virginica  Iris-virginica  Iris-virginica  Iris-virginica \n",
      "[105] Iris-virginica  Iris-virginica  Iris-virginica  Iris-virginica \n",
      "[109] Iris-virginica  Iris-virginica  Iris-virginica  Iris-virginica \n",
      "[113] Iris-virginica  Iris-virginica  Iris-virginica  Iris-virginica \n",
      "[117] Iris-virginica  Iris-virginica  Iris-virginica  Iris-virginica \n",
      "[121] Iris-virginica  Iris-virginica  Iris-virginica  Iris-virginica \n",
      "[125] Iris-virginica  Iris-virginica  Iris-virginica  Iris-virginica \n",
      "[129] Iris-virginica  Iris-virginica  Iris-virginica  Iris-virginica \n",
      "[133] Iris-virginica  Iris-virginica  Iris-virginica  Iris-virginica \n",
      "[137] Iris-virginica  Iris-virginica  Iris-virginica  Iris-virginica \n",
      "[141] Iris-virginica  Iris-virginica  Iris-virginica  Iris-virginica \n",
      "[145] Iris-virginica  Iris-virginica  Iris-virginica  Iris-virginica \n",
      "[149] Iris-virginica  Iris-virginica \n",
      "Levels: Iris-setosa Iris-versicolor Iris-virginica\n"
     ]
    },
    {
     "data": {
      "text/plain": [
       " SepalLengthCm    SepalWidthCm   PetalLengthCm    PetalWidthCm  \n",
       " Min.   :4.300   Min.   :2.000   Min.   :1.000   Min.   :0.100  \n",
       " 1st Qu.:5.100   1st Qu.:2.800   1st Qu.:1.600   1st Qu.:0.300  \n",
       " Median :5.800   Median :3.000   Median :4.350   Median :1.300  \n",
       " Mean   :5.843   Mean   :3.054   Mean   :3.759   Mean   :1.199  \n",
       " 3rd Qu.:6.400   3rd Qu.:3.300   3rd Qu.:5.100   3rd Qu.:1.800  \n",
       " Max.   :7.900   Max.   :4.400   Max.   :6.900   Max.   :2.500  "
      ]
     },
     "metadata": {},
     "output_type": "display_data"
    },
    {
     "data": {
      "text/plain": [
       "'Mclust' model object: (VEV,4) \n",
       "\n",
       "Available components: \n",
       " [1] \"call\"           \"data\"           \"modelName\"      \"n\"             \n",
       " [5] \"d\"              \"G\"              \"BIC\"            \"bic\"           \n",
       " [9] \"loglik\"         \"df\"             \"hypvol\"         \"parameters\"    \n",
       "[13] \"z\"              \"classification\" \"uncertainty\"   "
      ]
     },
     "metadata": {},
     "output_type": "display_data"
    },
    {
     "data": {
      "text/html": [
       "<table>\n",
       "<thead><tr><th scope=col>SepalLengthCm</th><th scope=col>SepalWidthCm</th><th scope=col>PetalLengthCm</th><th scope=col>PetalWidthCm</th></tr></thead>\n",
       "<tbody>\n",
       "\t<tr><td>5.125455 </td><td>3.523204 </td><td>1.462202 </td><td>0.2724583</td></tr>\n",
       "\t<tr><td>4.677193 </td><td>3.128422 </td><td>1.468950 </td><td>0.1656670</td></tr>\n",
       "\t<tr><td>5.912846 </td><td>2.779223 </td><td>4.204193 </td><td>1.2993252</td></tr>\n",
       "\t<tr><td>6.549201 </td><td>2.948315 </td><td>5.483281 </td><td>1.9858388</td></tr>\n",
       "</tbody>\n",
       "</table>\n"
      ],
      "text/latex": [
       "\\begin{tabular}{llll}\n",
       " SepalLengthCm & SepalWidthCm & PetalLengthCm & PetalWidthCm\\\\\n",
       "\\hline\n",
       "\t 5.125455  & 3.523204  & 1.462202  & 0.2724583\\\\\n",
       "\t 4.677193  & 3.128422  & 1.468950  & 0.1656670\\\\\n",
       "\t 5.912846  & 2.779223  & 4.204193  & 1.2993252\\\\\n",
       "\t 6.549201  & 2.948315  & 5.483281  & 1.9858388\\\\\n",
       "\\end{tabular}\n"
      ],
      "text/markdown": [
       "\n",
       "SepalLengthCm | SepalWidthCm | PetalLengthCm | PetalWidthCm | \n",
       "|---|---|---|---|\n",
       "| 5.125455  | 3.523204  | 1.462202  | 0.2724583 | \n",
       "| 4.677193  | 3.128422  | 1.468950  | 0.1656670 | \n",
       "| 5.912846  | 2.779223  | 4.204193  | 1.2993252 | \n",
       "| 6.549201  | 2.948315  | 5.483281  | 1.9858388 | \n",
       "\n",
       "\n"
      ],
      "text/plain": [
       "     SepalLengthCm SepalWidthCm PetalLengthCm PetalWidthCm\n",
       "[1,] 5.125455      3.523204     1.462202      0.2724583   \n",
       "[2,] 4.677193      3.128422     1.468950      0.1656670   \n",
       "[3,] 5.912846      2.779223     4.204193      1.2993252   \n",
       "[4,] 6.549201      2.948315     5.483281      1.9858388   "
      ]
     },
     "metadata": {},
     "output_type": "display_data"
    },
    {
     "data": {
      "text/html": [
       "<ol class=list-inline>\n",
       "\t<li>1</li>\n",
       "\t<li>1</li>\n",
       "\t<li>1</li>\n",
       "\t<li>2</li>\n",
       "\t<li>1</li>\n",
       "\t<li>1</li>\n",
       "\t<li>1</li>\n",
       "\t<li>1</li>\n",
       "\t<li>2</li>\n",
       "\t<li>2</li>\n",
       "\t<li>1</li>\n",
       "\t<li>2</li>\n",
       "\t<li>2</li>\n",
       "\t<li>2</li>\n",
       "\t<li>1</li>\n",
       "\t<li>1</li>\n",
       "\t<li>1</li>\n",
       "\t<li>1</li>\n",
       "\t<li>1</li>\n",
       "\t<li>1</li>\n",
       "\t<li>1</li>\n",
       "\t<li>1</li>\n",
       "\t<li>1</li>\n",
       "\t<li>1</li>\n",
       "\t<li>2</li>\n",
       "\t<li>1</li>\n",
       "\t<li>1</li>\n",
       "\t<li>1</li>\n",
       "\t<li>1</li>\n",
       "\t<li>2</li>\n",
       "\t<li>2</li>\n",
       "\t<li>1</li>\n",
       "\t<li>1</li>\n",
       "\t<li>1</li>\n",
       "\t<li>2</li>\n",
       "\t<li>1</li>\n",
       "\t<li>1</li>\n",
       "\t<li>2</li>\n",
       "\t<li>2</li>\n",
       "\t<li>1</li>\n",
       "\t<li>1</li>\n",
       "\t<li>1</li>\n",
       "\t<li>2</li>\n",
       "\t<li>1</li>\n",
       "\t<li>1</li>\n",
       "\t<li>1</li>\n",
       "\t<li>1</li>\n",
       "\t<li>2</li>\n",
       "\t<li>1</li>\n",
       "\t<li>1</li>\n",
       "\t<li>3</li>\n",
       "\t<li>3</li>\n",
       "\t<li>3</li>\n",
       "\t<li>3</li>\n",
       "\t<li>3</li>\n",
       "\t<li>3</li>\n",
       "\t<li>3</li>\n",
       "\t<li>3</li>\n",
       "\t<li>3</li>\n",
       "\t<li>3</li>\n",
       "\t<li>3</li>\n",
       "\t<li>3</li>\n",
       "\t<li>3</li>\n",
       "\t<li>3</li>\n",
       "\t<li>3</li>\n",
       "\t<li>3</li>\n",
       "\t<li>3</li>\n",
       "\t<li>3</li>\n",
       "\t<li>4</li>\n",
       "\t<li>3</li>\n",
       "\t<li>4</li>\n",
       "\t<li>3</li>\n",
       "\t<li>4</li>\n",
       "\t<li>3</li>\n",
       "\t<li>3</li>\n",
       "\t<li>3</li>\n",
       "\t<li>3</li>\n",
       "\t<li>4</li>\n",
       "\t<li>3</li>\n",
       "\t<li>3</li>\n",
       "\t<li>3</li>\n",
       "\t<li>3</li>\n",
       "\t<li>3</li>\n",
       "\t<li>4</li>\n",
       "\t<li>3</li>\n",
       "\t<li>3</li>\n",
       "\t<li>3</li>\n",
       "\t<li>3</li>\n",
       "\t<li>3</li>\n",
       "\t<li>3</li>\n",
       "\t<li>3</li>\n",
       "\t<li>3</li>\n",
       "\t<li>3</li>\n",
       "\t<li>3</li>\n",
       "\t<li>3</li>\n",
       "\t<li>3</li>\n",
       "\t<li>3</li>\n",
       "\t<li>3</li>\n",
       "\t<li>3</li>\n",
       "\t<li>3</li>\n",
       "\t<li>4</li>\n",
       "\t<li>4</li>\n",
       "\t<li>4</li>\n",
       "\t<li>4</li>\n",
       "\t<li>4</li>\n",
       "\t<li>4</li>\n",
       "\t<li>4</li>\n",
       "\t<li>4</li>\n",
       "\t<li>4</li>\n",
       "\t<li>4</li>\n",
       "\t<li>4</li>\n",
       "\t<li>4</li>\n",
       "\t<li>4</li>\n",
       "\t<li>4</li>\n",
       "\t<li>4</li>\n",
       "\t<li>4</li>\n",
       "\t<li>4</li>\n",
       "\t<li>4</li>\n",
       "\t<li>4</li>\n",
       "\t<li>4</li>\n",
       "\t<li>4</li>\n",
       "\t<li>4</li>\n",
       "\t<li>4</li>\n",
       "\t<li>4</li>\n",
       "\t<li>4</li>\n",
       "\t<li>4</li>\n",
       "\t<li>4</li>\n",
       "\t<li>4</li>\n",
       "\t<li>4</li>\n",
       "\t<li>4</li>\n",
       "\t<li>4</li>\n",
       "\t<li>4</li>\n",
       "\t<li>4</li>\n",
       "\t<li>4</li>\n",
       "\t<li>4</li>\n",
       "\t<li>4</li>\n",
       "\t<li>4</li>\n",
       "\t<li>4</li>\n",
       "\t<li>4</li>\n",
       "\t<li>4</li>\n",
       "\t<li>4</li>\n",
       "\t<li>4</li>\n",
       "\t<li>4</li>\n",
       "\t<li>4</li>\n",
       "\t<li>4</li>\n",
       "\t<li>4</li>\n",
       "\t<li>4</li>\n",
       "\t<li>4</li>\n",
       "\t<li>4</li>\n",
       "\t<li>4</li>\n",
       "</ol>\n"
      ],
      "text/latex": [
       "\\begin{enumerate*}\n",
       "\\item 1\n",
       "\\item 1\n",
       "\\item 1\n",
       "\\item 2\n",
       "\\item 1\n",
       "\\item 1\n",
       "\\item 1\n",
       "\\item 1\n",
       "\\item 2\n",
       "\\item 2\n",
       "\\item 1\n",
       "\\item 2\n",
       "\\item 2\n",
       "\\item 2\n",
       "\\item 1\n",
       "\\item 1\n",
       "\\item 1\n",
       "\\item 1\n",
       "\\item 1\n",
       "\\item 1\n",
       "\\item 1\n",
       "\\item 1\n",
       "\\item 1\n",
       "\\item 1\n",
       "\\item 2\n",
       "\\item 1\n",
       "\\item 1\n",
       "\\item 1\n",
       "\\item 1\n",
       "\\item 2\n",
       "\\item 2\n",
       "\\item 1\n",
       "\\item 1\n",
       "\\item 1\n",
       "\\item 2\n",
       "\\item 1\n",
       "\\item 1\n",
       "\\item 2\n",
       "\\item 2\n",
       "\\item 1\n",
       "\\item 1\n",
       "\\item 1\n",
       "\\item 2\n",
       "\\item 1\n",
       "\\item 1\n",
       "\\item 1\n",
       "\\item 1\n",
       "\\item 2\n",
       "\\item 1\n",
       "\\item 1\n",
       "\\item 3\n",
       "\\item 3\n",
       "\\item 3\n",
       "\\item 3\n",
       "\\item 3\n",
       "\\item 3\n",
       "\\item 3\n",
       "\\item 3\n",
       "\\item 3\n",
       "\\item 3\n",
       "\\item 3\n",
       "\\item 3\n",
       "\\item 3\n",
       "\\item 3\n",
       "\\item 3\n",
       "\\item 3\n",
       "\\item 3\n",
       "\\item 3\n",
       "\\item 4\n",
       "\\item 3\n",
       "\\item 4\n",
       "\\item 3\n",
       "\\item 4\n",
       "\\item 3\n",
       "\\item 3\n",
       "\\item 3\n",
       "\\item 3\n",
       "\\item 4\n",
       "\\item 3\n",
       "\\item 3\n",
       "\\item 3\n",
       "\\item 3\n",
       "\\item 3\n",
       "\\item 4\n",
       "\\item 3\n",
       "\\item 3\n",
       "\\item 3\n",
       "\\item 3\n",
       "\\item 3\n",
       "\\item 3\n",
       "\\item 3\n",
       "\\item 3\n",
       "\\item 3\n",
       "\\item 3\n",
       "\\item 3\n",
       "\\item 3\n",
       "\\item 3\n",
       "\\item 3\n",
       "\\item 3\n",
       "\\item 3\n",
       "\\item 4\n",
       "\\item 4\n",
       "\\item 4\n",
       "\\item 4\n",
       "\\item 4\n",
       "\\item 4\n",
       "\\item 4\n",
       "\\item 4\n",
       "\\item 4\n",
       "\\item 4\n",
       "\\item 4\n",
       "\\item 4\n",
       "\\item 4\n",
       "\\item 4\n",
       "\\item 4\n",
       "\\item 4\n",
       "\\item 4\n",
       "\\item 4\n",
       "\\item 4\n",
       "\\item 4\n",
       "\\item 4\n",
       "\\item 4\n",
       "\\item 4\n",
       "\\item 4\n",
       "\\item 4\n",
       "\\item 4\n",
       "\\item 4\n",
       "\\item 4\n",
       "\\item 4\n",
       "\\item 4\n",
       "\\item 4\n",
       "\\item 4\n",
       "\\item 4\n",
       "\\item 4\n",
       "\\item 4\n",
       "\\item 4\n",
       "\\item 4\n",
       "\\item 4\n",
       "\\item 4\n",
       "\\item 4\n",
       "\\item 4\n",
       "\\item 4\n",
       "\\item 4\n",
       "\\item 4\n",
       "\\item 4\n",
       "\\item 4\n",
       "\\item 4\n",
       "\\item 4\n",
       "\\item 4\n",
       "\\item 4\n",
       "\\end{enumerate*}\n"
      ],
      "text/markdown": [
       "1. 1\n",
       "2. 1\n",
       "3. 1\n",
       "4. 2\n",
       "5. 1\n",
       "6. 1\n",
       "7. 1\n",
       "8. 1\n",
       "9. 2\n",
       "10. 2\n",
       "11. 1\n",
       "12. 2\n",
       "13. 2\n",
       "14. 2\n",
       "15. 1\n",
       "16. 1\n",
       "17. 1\n",
       "18. 1\n",
       "19. 1\n",
       "20. 1\n",
       "21. 1\n",
       "22. 1\n",
       "23. 1\n",
       "24. 1\n",
       "25. 2\n",
       "26. 1\n",
       "27. 1\n",
       "28. 1\n",
       "29. 1\n",
       "30. 2\n",
       "31. 2\n",
       "32. 1\n",
       "33. 1\n",
       "34. 1\n",
       "35. 2\n",
       "36. 1\n",
       "37. 1\n",
       "38. 2\n",
       "39. 2\n",
       "40. 1\n",
       "41. 1\n",
       "42. 1\n",
       "43. 2\n",
       "44. 1\n",
       "45. 1\n",
       "46. 1\n",
       "47. 1\n",
       "48. 2\n",
       "49. 1\n",
       "50. 1\n",
       "51. 3\n",
       "52. 3\n",
       "53. 3\n",
       "54. 3\n",
       "55. 3\n",
       "56. 3\n",
       "57. 3\n",
       "58. 3\n",
       "59. 3\n",
       "60. 3\n",
       "61. 3\n",
       "62. 3\n",
       "63. 3\n",
       "64. 3\n",
       "65. 3\n",
       "66. 3\n",
       "67. 3\n",
       "68. 3\n",
       "69. 4\n",
       "70. 3\n",
       "71. 4\n",
       "72. 3\n",
       "73. 4\n",
       "74. 3\n",
       "75. 3\n",
       "76. 3\n",
       "77. 3\n",
       "78. 4\n",
       "79. 3\n",
       "80. 3\n",
       "81. 3\n",
       "82. 3\n",
       "83. 3\n",
       "84. 4\n",
       "85. 3\n",
       "86. 3\n",
       "87. 3\n",
       "88. 3\n",
       "89. 3\n",
       "90. 3\n",
       "91. 3\n",
       "92. 3\n",
       "93. 3\n",
       "94. 3\n",
       "95. 3\n",
       "96. 3\n",
       "97. 3\n",
       "98. 3\n",
       "99. 3\n",
       "100. 3\n",
       "101. 4\n",
       "102. 4\n",
       "103. 4\n",
       "104. 4\n",
       "105. 4\n",
       "106. 4\n",
       "107. 4\n",
       "108. 4\n",
       "109. 4\n",
       "110. 4\n",
       "111. 4\n",
       "112. 4\n",
       "113. 4\n",
       "114. 4\n",
       "115. 4\n",
       "116. 4\n",
       "117. 4\n",
       "118. 4\n",
       "119. 4\n",
       "120. 4\n",
       "121. 4\n",
       "122. 4\n",
       "123. 4\n",
       "124. 4\n",
       "125. 4\n",
       "126. 4\n",
       "127. 4\n",
       "128. 4\n",
       "129. 4\n",
       "130. 4\n",
       "131. 4\n",
       "132. 4\n",
       "133. 4\n",
       "134. 4\n",
       "135. 4\n",
       "136. 4\n",
       "137. 4\n",
       "138. 4\n",
       "139. 4\n",
       "140. 4\n",
       "141. 4\n",
       "142. 4\n",
       "143. 4\n",
       "144. 4\n",
       "145. 4\n",
       "146. 4\n",
       "147. 4\n",
       "148. 4\n",
       "149. 4\n",
       "150. 4\n",
       "\n",
       "\n"
      ],
      "text/plain": [
       "  [1] 1 1 1 2 1 1 1 1 2 2 1 2 2 2 1 1 1 1 1 1 1 1 1 1 2 1 1 1 1 2 2 1 1 1 2 1 1\n",
       " [38] 2 2 1 1 1 2 1 1 1 1 2 1 1 3 3 3 3 3 3 3 3 3 3 3 3 3 3 3 3 3 3 4 3 4 3 4 3\n",
       " [75] 3 3 3 4 3 3 3 3 3 4 3 3 3 3 3 3 3 3 3 3 3 3 3 3 3 3 4 4 4 4 4 4 4 4 4 4 4\n",
       "[112] 4 4 4 4 4 4 4 4 4 4 4 4 4 4 4 4 4 4 4 4 4 4 4 4 4 4 4 4 4 4 4 4 4 4 4 4 4\n",
       "[149] 4 4"
      ]
     },
     "metadata": {},
     "output_type": "display_data"
    },
    {
     "name": "stdout",
     "output_type": "stream",
     "text": [
      "[1] \"##############################################################\"\n"
     ]
    },
    {
     "data": {
      "text/html": [
       "<table>\n",
       "<thead><tr><th></th><th scope=col>Comp.1</th><th scope=col>Comp.2</th><th scope=col>Comp.3</th><th scope=col>Comp.4</th></tr></thead>\n",
       "<tbody>\n",
       "\t<tr><th scope=row>1</th><td> 2.0324096   </td><td> 0.6861101   </td><td>-0.03610243  </td><td> 0.0167654746</td></tr>\n",
       "\t<tr><th scope=row>2</th><td> 1.0464401   </td><td>-0.1922860   </td><td> 0.02903209  </td><td>-0.0007370641</td></tr>\n",
       "\t<tr><th scope=row>3</th><td> 0.1469626   </td><td>-1.0312616   </td><td>-0.07870576  </td><td>-0.0501007159</td></tr>\n",
       "\t<tr><th scope=row>4</th><td>-2.2201933   </td><td> 0.2922248   </td><td> 0.04395511  </td><td> 0.0179161484</td></tr>\n",
       "</tbody>\n",
       "</table>\n"
      ],
      "text/latex": [
       "\\begin{tabular}{r|llll}\n",
       "  & Comp.1 & Comp.2 & Comp.3 & Comp.4\\\\\n",
       "\\hline\n",
       "\t1 &  2.0324096    &  0.6861101    & -0.03610243   &  0.0167654746\\\\\n",
       "\t2 &  1.0464401    & -0.1922860    &  0.02903209   & -0.0007370641\\\\\n",
       "\t3 &  0.1469626    & -1.0312616    & -0.07870576   & -0.0501007159\\\\\n",
       "\t4 & -2.2201933    &  0.2922248    &  0.04395511   &  0.0179161484\\\\\n",
       "\\end{tabular}\n"
      ],
      "text/markdown": [
       "\n",
       "| <!--/--> | Comp.1 | Comp.2 | Comp.3 | Comp.4 | \n",
       "|---|---|---|---|\n",
       "| 1 |  2.0324096    |  0.6861101    | -0.03610243   |  0.0167654746 | \n",
       "| 2 |  1.0464401    | -0.1922860    |  0.02903209   | -0.0007370641 | \n",
       "| 3 |  0.1469626    | -1.0312616    | -0.07870576   | -0.0501007159 | \n",
       "| 4 | -2.2201933    |  0.2922248    |  0.04395511   |  0.0179161484 | \n",
       "\n",
       "\n"
      ],
      "text/plain": [
       "  Comp.1     Comp.2     Comp.3      Comp.4       \n",
       "1  2.0324096  0.6861101 -0.03610243  0.0167654746\n",
       "2  1.0464401 -0.1922860  0.02903209 -0.0007370641\n",
       "3  0.1469626 -1.0312616 -0.07870576 -0.0501007159\n",
       "4 -2.2201933  0.2922248  0.04395511  0.0179161484"
      ]
     },
     "metadata": {},
     "output_type": "display_data"
    },
    {
     "data": {
      "text/plain": [
       "K-means clustering with 4 clusters of sizes 32, 40, 28, 50\n",
       "\n",
       "Cluster means:\n",
       "  SepalLengthCm SepalWidthCm PetalLengthCm PetalWidthCm\n",
       "1      6.912500     3.100000      5.846875     2.131250\n",
       "2      6.252500     2.855000      4.815000     1.625000\n",
       "3      5.532143     2.635714      3.960714     1.228571\n",
       "4      5.006000     3.418000      1.464000     0.244000\n",
       "\n",
       "Clustering vector:\n",
       "  [1] 4 4 4 4 4 4 4 4 4 4 4 4 4 4 4 4 4 4 4 4 4 4 4 4 4 4 4 4 4 4 4 4 4 4 4 4 4\n",
       " [38] 4 4 4 4 4 4 4 4 4 4 4 4 4 2 2 2 3 2 3 2 3 2 3 3 3 3 2 3 2 3 3 2 3 2 3 2 2\n",
       " [75] 2 2 2 2 2 3 3 3 3 2 3 2 2 2 3 3 3 2 3 3 3 3 3 2 3 3 1 2 1 1 1 1 3 1 1 1 2\n",
       "[112] 2 1 2 2 1 1 1 1 2 1 2 1 2 1 1 2 2 1 1 1 1 1 2 2 1 1 1 2 1 1 1 2 1 1 1 2 2\n",
       "[149] 1 2\n",
       "\n",
       "Within cluster sum of squares by cluster:\n",
       "[1] 18.703437 13.624750  9.749286 15.240400\n",
       " (between_SS / total_SS =  91.6 %)\n",
       "\n",
       "Available components:\n",
       "\n",
       "[1] \"cluster\"      \"centers\"      \"totss\"        \"withinss\"     \"tot.withinss\"\n",
       "[6] \"betweenss\"    \"size\"         \"iter\"         \"ifault\"      "
      ]
     },
     "metadata": {},
     "output_type": "display_data"
    },
    {
     "name": "stdout",
     "output_type": "stream",
     "text": [
      "[1] \"##############################################################\"\n"
     ]
    },
    {
     "data": {
      "image/png": "[encoded data removed]",
      "text/plain": [
       "Plot with title \"Cluster Dendrogram\""
      ]
     },
     "metadata": {},
     "output_type": "display_data"
    }
   ],
   "source": [
    "\n",
    "data<- read.csv(\"Iris.csv\",sep=\",\",header=TRUE )\n",
    "ft <- data[2:5] #Obtener solo los features\n",
    "especies<-data$Species\n",
    "\n",
    "dis <- dist(ft)\n",
    "\n",
    "\n",
    "\n",
    "ngrupo <- 4\n",
    "clus <-Mclust(ft, G=ngrupo)\n",
    "clus\n",
    "cl <- clus$classification\n",
    "centers <- t(clus$parameters$mean)\n",
    "centers\n",
    "cl\n",
    "print(\"##############################################################\")\n",
    "#Kmean\n",
    "cl<-kmeans(ft,ngrupo,iter.max=1000,nstart=10)\n",
    "res <- princomp(ft, cor=TRUE)\n",
    "predict(res,cl$centers)\n",
    "cl\n",
    "print(\"##############################################################\")\n",
    "\n",
    "plot(hclust(dis))"
   ]
  },
  {
   "cell_type": "code",
   "execution_count": null,
   "metadata": {},
   "outputs": [],
   "source": []
  }
 ],
 "metadata": {
  "celltoolbar": "Raw Cell Format",
  "kernelspec": {
   "display_name": "R",
   "language": "R",
   "name": "ir"
  },
  "language_info": {
   "codemirror_mode": "r",
   "file_extension": ".r",
   "mimetype": "text/x-r-source",
   "name": "R",
   "pygments_lexer": "r",
   "version": "3.5.1"
  }
 },
 "nbformat": 4,
 "nbformat_minor": 2
}
